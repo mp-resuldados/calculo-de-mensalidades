{
 "cells": [
  {
   "cell_type": "markdown",
   "id": "065b290d-460f-41ec-aad2-70d6222b47fc",
   "metadata": {},
   "source": [
    "# Cálculo de mensalidades para uma escola de período integral\n",
    "\n",
    "O cálculo será feito baseado nos valores do ano 2023 e depois será calculado um reajuste."
   ]
  },
  {
   "cell_type": "code",
   "execution_count": 1,
   "id": "1098099c-9a21-4c8b-8ae4-e5715bc7bdbd",
   "metadata": {
    "tags": []
   },
   "outputs": [],
   "source": [
    "import pandas as pd\n",
    "import matplotlib.pyplot as plt\n",
    "import numpy as np\n",
    "import matplotlib as mpl\n",
    "\n",
    "from sklearn.linear_model import LinearRegression"
   ]
  },
  {
   "cell_type": "markdown",
   "id": "9ef517bd-c351-4cad-899d-670951549a38",
   "metadata": {},
   "source": [
    "Lendo o arquivo que contem os valores tabelados de mensalidade e os efetivamentente pagos em função do número de horas na escola para o mês de agosto."
   ]
  },
  {
   "cell_type": "code",
   "execution_count": 2,
   "id": "fd3d992b-8bd1-496b-a956-cf79df585e51",
   "metadata": {
    "tags": []
   },
   "outputs": [
    {
     "data": {
      "text/html": [
       "<div>\n",
       "<style scoped>\n",
       "    .dataframe tbody tr th:only-of-type {\n",
       "        vertical-align: middle;\n",
       "    }\n",
       "\n",
       "    .dataframe tbody tr th {\n",
       "        vertical-align: top;\n",
       "    }\n",
       "\n",
       "    .dataframe thead th {\n",
       "        text-align: right;\n",
       "    }\n",
       "</style>\n",
       "<table border=\"1\" class=\"dataframe\">\n",
       "  <thead>\n",
       "    <tr style=\"text-align: right;\">\n",
       "      <th></th>\n",
       "      <th>horas</th>\n",
       "      <th>pago</th>\n",
       "      <th>tabelado</th>\n",
       "    </tr>\n",
       "  </thead>\n",
       "  <tbody>\n",
       "    <tr>\n",
       "      <th>0</th>\n",
       "      <td>4.0</td>\n",
       "      <td>1130.370000</td>\n",
       "      <td>1339.5800</td>\n",
       "    </tr>\n",
       "    <tr>\n",
       "      <th>1</th>\n",
       "      <td>4.0</td>\n",
       "      <td>964.324850</td>\n",
       "      <td>1339.5800</td>\n",
       "    </tr>\n",
       "    <tr>\n",
       "      <th>2</th>\n",
       "      <td>4.0</td>\n",
       "      <td>964.885101</td>\n",
       "      <td>1339.5800</td>\n",
       "    </tr>\n",
       "    <tr>\n",
       "      <th>3</th>\n",
       "      <td>4.0</td>\n",
       "      <td>992.371000</td>\n",
       "      <td>1339.5800</td>\n",
       "    </tr>\n",
       "    <tr>\n",
       "      <th>4</th>\n",
       "      <td>4.0</td>\n",
       "      <td>1173.910000</td>\n",
       "      <td>1339.5800</td>\n",
       "    </tr>\n",
       "    <tr>\n",
       "      <th>5</th>\n",
       "      <td>4.0</td>\n",
       "      <td>1023.957934</td>\n",
       "      <td>1339.5800</td>\n",
       "    </tr>\n",
       "    <tr>\n",
       "      <th>6</th>\n",
       "      <td>5.0</td>\n",
       "      <td>1137.170000</td>\n",
       "      <td>1503.0050</td>\n",
       "    </tr>\n",
       "    <tr>\n",
       "      <th>7</th>\n",
       "      <td>6.0</td>\n",
       "      <td>1144.530000</td>\n",
       "      <td>1666.4300</td>\n",
       "    </tr>\n",
       "    <tr>\n",
       "      <th>8</th>\n",
       "      <td>6.0</td>\n",
       "      <td>1115.850000</td>\n",
       "      <td>1666.4300</td>\n",
       "    </tr>\n",
       "    <tr>\n",
       "      <th>9</th>\n",
       "      <td>6.0</td>\n",
       "      <td>1530.630000</td>\n",
       "      <td>1666.4300</td>\n",
       "    </tr>\n",
       "    <tr>\n",
       "      <th>10</th>\n",
       "      <td>7.5</td>\n",
       "      <td>1283.600000</td>\n",
       "      <td>1822.4675</td>\n",
       "    </tr>\n",
       "    <tr>\n",
       "      <th>11</th>\n",
       "      <td>8.0</td>\n",
       "      <td>1613.130000</td>\n",
       "      <td>1874.4800</td>\n",
       "    </tr>\n",
       "    <tr>\n",
       "      <th>12</th>\n",
       "      <td>8.0</td>\n",
       "      <td>1735.000000</td>\n",
       "      <td>1874.4800</td>\n",
       "    </tr>\n",
       "    <tr>\n",
       "      <th>13</th>\n",
       "      <td>8.0</td>\n",
       "      <td>1869.670000</td>\n",
       "      <td>1874.4800</td>\n",
       "    </tr>\n",
       "    <tr>\n",
       "      <th>14</th>\n",
       "      <td>8.0</td>\n",
       "      <td>1568.160000</td>\n",
       "      <td>1874.4800</td>\n",
       "    </tr>\n",
       "    <tr>\n",
       "      <th>15</th>\n",
       "      <td>9.0</td>\n",
       "      <td>1734.300000</td>\n",
       "      <td>2094.4750</td>\n",
       "    </tr>\n",
       "    <tr>\n",
       "      <th>16</th>\n",
       "      <td>8.0</td>\n",
       "      <td>1727.510000</td>\n",
       "      <td>1874.4800</td>\n",
       "    </tr>\n",
       "    <tr>\n",
       "      <th>17</th>\n",
       "      <td>10.0</td>\n",
       "      <td>1510.150000</td>\n",
       "      <td>2314.4700</td>\n",
       "    </tr>\n",
       "    <tr>\n",
       "      <th>18</th>\n",
       "      <td>10.0</td>\n",
       "      <td>1842.940000</td>\n",
       "      <td>2314.4700</td>\n",
       "    </tr>\n",
       "    <tr>\n",
       "      <th>19</th>\n",
       "      <td>10.0</td>\n",
       "      <td>1732.010000</td>\n",
       "      <td>2314.4700</td>\n",
       "    </tr>\n",
       "    <tr>\n",
       "      <th>20</th>\n",
       "      <td>10.0</td>\n",
       "      <td>1557.850000</td>\n",
       "      <td>2314.4700</td>\n",
       "    </tr>\n",
       "    <tr>\n",
       "      <th>21</th>\n",
       "      <td>10.0</td>\n",
       "      <td>2163.410000</td>\n",
       "      <td>2314.4700</td>\n",
       "    </tr>\n",
       "    <tr>\n",
       "      <th>22</th>\n",
       "      <td>10.0</td>\n",
       "      <td>1782.430000</td>\n",
       "      <td>2314.4700</td>\n",
       "    </tr>\n",
       "    <tr>\n",
       "      <th>23</th>\n",
       "      <td>10.0</td>\n",
       "      <td>1712.260000</td>\n",
       "      <td>2314.4700</td>\n",
       "    </tr>\n",
       "    <tr>\n",
       "      <th>24</th>\n",
       "      <td>10.0</td>\n",
       "      <td>1828.160000</td>\n",
       "      <td>2314.4700</td>\n",
       "    </tr>\n",
       "    <tr>\n",
       "      <th>25</th>\n",
       "      <td>10.0</td>\n",
       "      <td>2163.410000</td>\n",
       "      <td>2314.4700</td>\n",
       "    </tr>\n",
       "    <tr>\n",
       "      <th>26</th>\n",
       "      <td>10.0</td>\n",
       "      <td>1732.010000</td>\n",
       "      <td>2314.4700</td>\n",
       "    </tr>\n",
       "    <tr>\n",
       "      <th>27</th>\n",
       "      <td>10.0</td>\n",
       "      <td>1741.120000</td>\n",
       "      <td>2314.4700</td>\n",
       "    </tr>\n",
       "    <tr>\n",
       "      <th>28</th>\n",
       "      <td>10.0</td>\n",
       "      <td>1732.010000</td>\n",
       "      <td>2314.4700</td>\n",
       "    </tr>\n",
       "    <tr>\n",
       "      <th>29</th>\n",
       "      <td>10.0</td>\n",
       "      <td>1925.430000</td>\n",
       "      <td>2314.4700</td>\n",
       "    </tr>\n",
       "    <tr>\n",
       "      <th>30</th>\n",
       "      <td>10.5</td>\n",
       "      <td>1624.490000</td>\n",
       "      <td>2407.0500</td>\n",
       "    </tr>\n",
       "    <tr>\n",
       "      <th>31</th>\n",
       "      <td>10.5</td>\n",
       "      <td>1624.490000</td>\n",
       "      <td>2407.0500</td>\n",
       "    </tr>\n",
       "    <tr>\n",
       "      <th>32</th>\n",
       "      <td>11.0</td>\n",
       "      <td>1834.960000</td>\n",
       "      <td>2499.6300</td>\n",
       "    </tr>\n",
       "    <tr>\n",
       "      <th>33</th>\n",
       "      <td>11.0</td>\n",
       "      <td>1700.000000</td>\n",
       "      <td>2499.6300</td>\n",
       "    </tr>\n",
       "    <tr>\n",
       "      <th>34</th>\n",
       "      <td>11.5</td>\n",
       "      <td>1803.850000</td>\n",
       "      <td>2592.2100</td>\n",
       "    </tr>\n",
       "    <tr>\n",
       "      <th>35</th>\n",
       "      <td>12.0</td>\n",
       "      <td>1634.700000</td>\n",
       "      <td>2684.7900</td>\n",
       "    </tr>\n",
       "    <tr>\n",
       "      <th>36</th>\n",
       "      <td>12.5</td>\n",
       "      <td>1373.660000</td>\n",
       "      <td>2684.7900</td>\n",
       "    </tr>\n",
       "  </tbody>\n",
       "</table>\n",
       "</div>"
      ],
      "text/plain": [
       "    horas         pago   tabelado\n",
       "0     4.0  1130.370000  1339.5800\n",
       "1     4.0   964.324850  1339.5800\n",
       "2     4.0   964.885101  1339.5800\n",
       "3     4.0   992.371000  1339.5800\n",
       "4     4.0  1173.910000  1339.5800\n",
       "5     4.0  1023.957934  1339.5800\n",
       "6     5.0  1137.170000  1503.0050\n",
       "7     6.0  1144.530000  1666.4300\n",
       "8     6.0  1115.850000  1666.4300\n",
       "9     6.0  1530.630000  1666.4300\n",
       "10    7.5  1283.600000  1822.4675\n",
       "11    8.0  1613.130000  1874.4800\n",
       "12    8.0  1735.000000  1874.4800\n",
       "13    8.0  1869.670000  1874.4800\n",
       "14    8.0  1568.160000  1874.4800\n",
       "15    9.0  1734.300000  2094.4750\n",
       "16    8.0  1727.510000  1874.4800\n",
       "17   10.0  1510.150000  2314.4700\n",
       "18   10.0  1842.940000  2314.4700\n",
       "19   10.0  1732.010000  2314.4700\n",
       "20   10.0  1557.850000  2314.4700\n",
       "21   10.0  2163.410000  2314.4700\n",
       "22   10.0  1782.430000  2314.4700\n",
       "23   10.0  1712.260000  2314.4700\n",
       "24   10.0  1828.160000  2314.4700\n",
       "25   10.0  2163.410000  2314.4700\n",
       "26   10.0  1732.010000  2314.4700\n",
       "27   10.0  1741.120000  2314.4700\n",
       "28   10.0  1732.010000  2314.4700\n",
       "29   10.0  1925.430000  2314.4700\n",
       "30   10.5  1624.490000  2407.0500\n",
       "31   10.5  1624.490000  2407.0500\n",
       "32   11.0  1834.960000  2499.6300\n",
       "33   11.0  1700.000000  2499.6300\n",
       "34   11.5  1803.850000  2592.2100\n",
       "35   12.0  1634.700000  2684.7900\n",
       "36   12.5  1373.660000  2684.7900"
      ]
     },
     "execution_count": 2,
     "metadata": {},
     "output_type": "execute_result"
    }
   ],
   "source": [
    "mens_ago = pd.read_csv('../dados/mensalidades_ago.csv')\n",
    "mens_ago"
   ]
  },
  {
   "cell_type": "markdown",
   "id": "d723f512-0ce6-4202-9617-52816ce7bbe1",
   "metadata": {},
   "source": [
    "Lendo o arquivo que contem os valores tabelados de mensalidade para o ano de 2023."
   ]
  },
  {
   "cell_type": "code",
   "execution_count": 3,
   "id": "1202c199-1de6-4e53-b7dd-68cbeb81bae3",
   "metadata": {
    "tags": []
   },
   "outputs": [
    {
     "data": {
      "text/html": [
       "<div>\n",
       "<style scoped>\n",
       "    .dataframe tbody tr th:only-of-type {\n",
       "        vertical-align: middle;\n",
       "    }\n",
       "\n",
       "    .dataframe tbody tr th {\n",
       "        vertical-align: top;\n",
       "    }\n",
       "\n",
       "    .dataframe thead th {\n",
       "        text-align: right;\n",
       "    }\n",
       "</style>\n",
       "<table border=\"1\" class=\"dataframe\">\n",
       "  <thead>\n",
       "    <tr style=\"text-align: right;\">\n",
       "      <th></th>\n",
       "      <th>horas</th>\n",
       "      <th>valores</th>\n",
       "    </tr>\n",
       "  </thead>\n",
       "  <tbody>\n",
       "    <tr>\n",
       "      <th>0</th>\n",
       "      <td>4.0</td>\n",
       "      <td>1339.58</td>\n",
       "    </tr>\n",
       "    <tr>\n",
       "      <th>1</th>\n",
       "      <td>6.0</td>\n",
       "      <td>1666.43</td>\n",
       "    </tr>\n",
       "    <tr>\n",
       "      <th>2</th>\n",
       "      <td>8.0</td>\n",
       "      <td>1874.48</td>\n",
       "    </tr>\n",
       "    <tr>\n",
       "      <th>3</th>\n",
       "      <td>10.0</td>\n",
       "      <td>2314.47</td>\n",
       "    </tr>\n",
       "    <tr>\n",
       "      <th>4</th>\n",
       "      <td>12.0</td>\n",
       "      <td>2684.79</td>\n",
       "    </tr>\n",
       "  </tbody>\n",
       "</table>\n",
       "</div>"
      ],
      "text/plain": [
       "   horas  valores\n",
       "0    4.0  1339.58\n",
       "1    6.0  1666.43\n",
       "2    8.0  1874.48\n",
       "3   10.0  2314.47\n",
       "4   12.0  2684.79"
      ]
     },
     "execution_count": 3,
     "metadata": {},
     "output_type": "execute_result"
    }
   ],
   "source": [
    "plano_2023 = pd.read_csv('../dados/plano_2023.csv')\n",
    "plano_2023"
   ]
  },
  {
   "cell_type": "markdown",
   "id": "4f8652a1-eca9-4785-a1be-0afeed326f82",
   "metadata": {},
   "source": [
    "Gráfico para comparar os valores tabelados e os efetivamente pagos em agosto de 2023."
   ]
  },
  {
   "cell_type": "code",
   "execution_count": 4,
   "id": "d272cb6a-14e8-4098-812f-54f7b4810ba8",
   "metadata": {
    "tags": []
   },
   "outputs": [
    {
     "data": {
      "image/png": "[encoded data removed]",
      "text/plain": [
       "<Figure size 640x480 with 1 Axes>"
      ]
     },
     "metadata": {},
     "output_type": "display_data"
    }
   ],
   "source": [
    "fig, ax = plt.subplots()\n",
    "\n",
    "ax.plot(\n",
    "    mens_ago['horas'],\n",
    "    mens_ago['pago'],\n",
    "    marker='o',\n",
    "    color='blue',\n",
    "    lw=0,\n",
    "    label='mensalidade paga',\n",
    ")\n",
    "\n",
    "ax.plot(\n",
    "    plano_2023['horas'],\n",
    "    plano_2023['valores'],\n",
    "    marker='s',\n",
    "    color='green',\n",
    "    linestyle='dashed',\n",
    "    label='mensalidade tabelada',\n",
    ")\n",
    "\n",
    "ax.set_title('Agosto')\n",
    "ax.set_xlabel('horas na escola')\n",
    "ax.set_ylabel('valores em reais')\n",
    "ax.legend(loc='upper left', ncols=1)\n",
    "\n",
    "fig.savefig('../imagens/mensalidades_2023.png')"
   ]
  },
  {
   "cell_type": "markdown",
   "id": "65c87989-57c6-4336-a002-1883b4d040c4",
   "metadata": {},
   "source": [
    "Gráfico contendo todas as combinações possíveis de desconto."
   ]
  },
  {
   "cell_type": "code",
   "execution_count": 5,
   "id": "a52acfc0-7330-498a-a6eb-bc51db9b92e8",
   "metadata": {
    "tags": []
   },
   "outputs": [
    {
     "data": {
      "image/png": "[encoded data removed]",
      "text/plain": [
       "<Figure size 640x480 with 1 Axes>"
      ]
     },
     "metadata": {},
     "output_type": "display_data"
    }
   ],
   "source": [
    "fig, ax = plt.subplots()\n",
    "\n",
    "ax.plot(\n",
    "    mens_ago['horas'],\n",
    "    mens_ago['pago'],\n",
    "    marker='o',\n",
    "    color='blue',\n",
    "    lw=0,\n",
    "    label='mensalidade paga',\n",
    ")\n",
    "\n",
    "ax.plot(\n",
    "    plano_2023['horas'],\n",
    "    plano_2023['valores'],\n",
    "    color='green',\n",
    "    linestyle='-',\n",
    "    label='mensalidade tabelada',\n",
    ")\n",
    "\n",
    "ax.plot(\n",
    "    plano_2023['horas'],\n",
    "    plano_2023['valores']*0.95,\n",
    "    color='seagreen',\n",
    "    linestyle='--',\n",
    "    label='-5%',\n",
    ")\n",
    "\n",
    "ax.plot(\n",
    "    plano_2023['horas'],\n",
    "    plano_2023['valores']*0.85,\n",
    "    color='darkviolet',\n",
    "    linestyle='-.',\n",
    "    label='-15%',\n",
    ")\n",
    "\n",
    "ax.plot(\n",
    "    plano_2023['horas'],\n",
    "    plano_2023['valores']*0.82,\n",
    "    color='red',\n",
    "    linestyle=':',\n",
    "    label='-18%',\n",
    ")\n",
    "\n",
    "ax.plot(\n",
    "    plano_2023['horas'],\n",
    "    plano_2023['valores']*0.85*0.95,\n",
    "    color='violet',\n",
    "    linestyle='-.',\n",
    "    label='-15% e -5%',\n",
    ")\n",
    "\n",
    "ax.plot(\n",
    "    plano_2023['horas'],\n",
    "    plano_2023['valores']*0.82*0.95,\n",
    "    color='orange',\n",
    "    linestyle=':',\n",
    "    label='-18% e -5%',\n",
    ")\n",
    "\n",
    "ax.plot(\n",
    "    plano_2023['horas'],\n",
    "    plano_2023['valores']*0.82*0.85,\n",
    "    color='darkgray',\n",
    "    linestyle='--',\n",
    "    label='-18% e -15%',\n",
    ")\n",
    "ax.plot(\n",
    "    plano_2023['horas'],\n",
    "    plano_2023['valores']*0.82*0.85*0.95,\n",
    "    color='black',\n",
    "    linestyle='-',\n",
    "    label='-18%, -15% e -5%',\n",
    ")\n",
    "\n",
    "ax.set_title('Agosto')\n",
    "ax.set_xlabel('horas na escola')\n",
    "ax.set_ylabel('valores em reais')\n",
    "ax.legend(loc='upper left', ncols=1)\n",
    "ax.set_xlim(3,13)\n",
    "ax.set_ylim(800,3000)\n",
    "\n",
    "fig.savefig('../imagens/mensalidades_2023_descontos.png')"
   ]
  },
  {
   "cell_type": "markdown",
   "id": "742023e9-012d-47fc-9b89-192465340cb5",
   "metadata": {},
   "source": [
    "# Modelo 1 para as mensalidades tabeladas para 2023"
   ]
  },
  {
   "cell_type": "markdown",
   "id": "9023b24d-dc76-488c-82f3-d4def375d282",
   "metadata": {},
   "source": [
    "Vamos do simples para o complexo...\n",
    "\n",
    "Modelo linear com o número de horas."
   ]
  },
  {
   "cell_type": "code",
   "execution_count": 6,
   "id": "288aade6-520b-4062-ade8-9d5cba698854",
   "metadata": {},
   "outputs": [],
   "source": [
    "x = np.array(plano_2023['horas']).reshape((-1, 1))\n",
    "y = np.array(plano_2023['valores'])\n",
    "modelo = LinearRegression().fit(x, y)\n",
    "# y = a x + b\n",
    "a = modelo.coef_[0]\n",
    "b = modelo.intercept_"
   ]
  },
  {
   "cell_type": "code",
   "execution_count": 7,
   "id": "9979fbcd-63bb-4d25-80ff-9d78b6e302f4",
   "metadata": {
    "tags": []
   },
   "outputs": [
    {
     "name": "stdout",
     "output_type": "stream",
     "text": [
      "coeficiente linear:  640.5660000000003\n",
      "coeficiente angular: 166.92299999999997\n"
     ]
    }
   ],
   "source": [
    "print(f\"coeficiente linear: \",b)\n",
    "print(f\"coeficiente angular:\",a)"
   ]
  },
  {
   "cell_type": "markdown",
   "id": "6e9e9a4e-de76-4191-9d59-d4470579f870",
   "metadata": {
    "tags": []
   },
   "source": [
    "Definindo como primeiro modelo a ser testado:"
   ]
  },
  {
   "cell_type": "code",
   "execution_count": 8,
   "id": "bec14955-6a0f-4905-9da0-488684a17d7a",
   "metadata": {
    "tags": []
   },
   "outputs": [],
   "source": [
    "def modelo1(h):\n",
    "    return np.round((a*h+b),2)\n",
    "\n",
    "# vetorizando a função para receber arrays de argumento\n",
    "v_modelo1 = np.vectorize(modelo1)"
   ]
  },
  {
   "cell_type": "markdown",
   "id": "f2e4bdb9-1153-40fb-9050-6401c6c99d6b",
   "metadata": {},
   "source": [
    "Gráfico do modelo linear"
   ]
  },
  {
   "cell_type": "code",
   "execution_count": 9,
   "id": "7c4e5b8b-b952-404e-8724-6a65e3cbdfd1",
   "metadata": {
    "tags": []
   },
   "outputs": [],
   "source": [
    "h = np.array(range(4,13))"
   ]
  },
  {
   "cell_type": "code",
   "execution_count": 10,
   "id": "f1397298-7957-4d57-b6a3-d0f3ec21723f",
   "metadata": {
    "tags": []
   },
   "outputs": [
    {
     "data": {
      "image/png": "[encoded data removed]",
      "text/plain": [
       "<Figure size 640x480 with 1 Axes>"
      ]
     },
     "metadata": {},
     "output_type": "display_data"
    }
   ],
   "source": [
    "fig, ax = plt.subplots()\n",
    "\n",
    "ax.plot(\n",
    "    plano_2023['horas'],\n",
    "    plano_2023['valores'],\n",
    "    marker='o',\n",
    "    color='green',\n",
    "    linestyle='--',\n",
    "    label='mensalidade tabelada',\n",
    ")\n",
    "ax.plot(\n",
    "    h,\n",
    "    v_modelo1(h),\n",
    "    color='red',\n",
    "    linestyle='-',\n",
    "    label='fit linear',\n",
    ")\n",
    "\n",
    "\n",
    "ax.set_title('Valores tabelados para 2023')\n",
    "ax.set_xlabel('horas na escola')\n",
    "ax.set_ylabel('valores em reais')\n",
    "ax.legend(loc='upper left', ncols=1)\n",
    "\n",
    "fig.savefig('../imagens/mensalidades_2023_fitlinear.png')"
   ]
  },
  {
   "cell_type": "markdown",
   "id": "9253fd55-814b-4b49-b23e-2fd845309ba0",
   "metadata": {
    "tags": []
   },
   "source": [
    "Quero verificar se esse modelo simples é capaz de suprir as despesas da escola. Vou usar a despesa média dos meses estudados e o número médio de alunos no mesmo período."
   ]
  },
  {
   "cell_type": "code",
   "execution_count": 11,
   "id": "976bb761-b94a-4531-bca3-748bd120b5b7",
   "metadata": {
    "tags": []
   },
   "outputs": [
    {
     "data": {
      "text/html": [
       "<div>\n",
       "<style scoped>\n",
       "    .dataframe tbody tr th:only-of-type {\n",
       "        vertical-align: middle;\n",
       "    }\n",
       "\n",
       "    .dataframe tbody tr th {\n",
       "        vertical-align: top;\n",
       "    }\n",
       "\n",
       "    .dataframe thead th {\n",
       "        text-align: right;\n",
       "    }\n",
       "</style>\n",
       "<table border=\"1\" class=\"dataframe\">\n",
       "  <thead>\n",
       "    <tr style=\"text-align: right;\">\n",
       "      <th></th>\n",
       "      <th>meses</th>\n",
       "      <th>valores</th>\n",
       "      <th>n</th>\n",
       "    </tr>\n",
       "  </thead>\n",
       "  <tbody>\n",
       "    <tr>\n",
       "      <th>0</th>\n",
       "      <td>6</td>\n",
       "      <td>58136.22</td>\n",
       "      <td>43</td>\n",
       "    </tr>\n",
       "    <tr>\n",
       "      <th>1</th>\n",
       "      <td>7</td>\n",
       "      <td>73274.51</td>\n",
       "      <td>43</td>\n",
       "    </tr>\n",
       "    <tr>\n",
       "      <th>2</th>\n",
       "      <td>8</td>\n",
       "      <td>74271.44</td>\n",
       "      <td>40</td>\n",
       "    </tr>\n",
       "    <tr>\n",
       "      <th>3</th>\n",
       "      <td>9</td>\n",
       "      <td>64923.11</td>\n",
       "      <td>33</td>\n",
       "    </tr>\n",
       "    <tr>\n",
       "      <th>4</th>\n",
       "      <td>10</td>\n",
       "      <td>55771.65</td>\n",
       "      <td>33</td>\n",
       "    </tr>\n",
       "  </tbody>\n",
       "</table>\n",
       "</div>"
      ],
      "text/plain": [
       "   meses   valores   n\n",
       "0      6  58136.22  43\n",
       "1      7  73274.51  43\n",
       "2      8  74271.44  40\n",
       "3      9  64923.11  33\n",
       "4     10  55771.65  33"
      ]
     },
     "execution_count": 11,
     "metadata": {},
     "output_type": "execute_result"
    }
   ],
   "source": [
    "despesas = pd.read_csv('../dados/despesas_2023.csv')\n",
    "despesas"
   ]
  },
  {
   "cell_type": "code",
   "execution_count": 12,
   "id": "25827943-882a-4284-b96b-15fa231a8436",
   "metadata": {
    "tags": []
   },
   "outputs": [
    {
     "data": {
      "text/plain": [
       "65275.386"
      ]
     },
     "execution_count": 12,
     "metadata": {},
     "output_type": "execute_result"
    }
   ],
   "source": [
    "despesa_media=despesas['valores'].mean()\n",
    "despesa_media"
   ]
  },
  {
   "cell_type": "code",
   "execution_count": 13,
   "id": "85dc70ba-08c6-4e29-a94b-aae4af776929",
   "metadata": {
    "tags": []
   },
   "outputs": [
    {
     "data": {
      "text/plain": [
       "38.4"
      ]
     },
     "execution_count": 13,
     "metadata": {},
     "output_type": "execute_result"
    }
   ],
   "source": [
    "n_medio=despesas['n'].mean()\n",
    "n_medio"
   ]
  },
  {
   "cell_type": "code",
   "execution_count": 14,
   "id": "882a0ee0-faa4-409a-a868-d873eb5b1576",
   "metadata": {
    "tags": []
   },
   "outputs": [
    {
     "data": {
      "text/plain": [
       "8.445945945945946"
      ]
     },
     "execution_count": 14,
     "metadata": {},
     "output_type": "execute_result"
    }
   ],
   "source": [
    "# media de horas de permanencia de um aluno na escola\n",
    "mens_ago['horas'].mean()"
   ]
  },
  {
   "cell_type": "markdown",
   "id": "e4394772-e5b6-4f2e-b98b-fea9cb535bac",
   "metadata": {
    "tags": []
   },
   "source": [
    "Cálculo do custo médio de 1 aluno:\n"
   ]
  },
  {
   "cell_type": "code",
   "execution_count": 15,
   "id": "a95cc56b-fe58-46df-b2d5-19cad1d63631",
   "metadata": {
    "tags": []
   },
   "outputs": [
    {
     "data": {
      "text/plain": [
       "1699.87984375"
      ]
     },
     "execution_count": 15,
     "metadata": {},
     "output_type": "execute_result"
    }
   ],
   "source": [
    "custo_aluno = despesas['valores'].sum()/despesas['n'].sum()\n",
    "custo_aluno"
   ]
  },
  {
   "cell_type": "markdown",
   "id": "696997d4-6c60-49cf-a0fa-43cfc8d13fdc",
   "metadata": {
    "tags": []
   },
   "source": [
    "Cálculo da mensalidade média paga por aluno segundo o modelo.\n",
    "\n",
    "Para o cálculo, vou a distribuição do mês de agosto como referência."
   ]
  },
  {
   "cell_type": "code",
   "execution_count": 16,
   "id": "37fc8db4-af97-4b2f-a626-870c0a9a49ab",
   "metadata": {
    "tags": []
   },
   "outputs": [
    {
     "data": {
      "text/html": [
       "<div>\n",
       "<style scoped>\n",
       "    .dataframe tbody tr th:only-of-type {\n",
       "        vertical-align: middle;\n",
       "    }\n",
       "\n",
       "    .dataframe tbody tr th {\n",
       "        vertical-align: top;\n",
       "    }\n",
       "\n",
       "    .dataframe thead th {\n",
       "        text-align: right;\n",
       "    }\n",
       "</style>\n",
       "<table border=\"1\" class=\"dataframe\">\n",
       "  <thead>\n",
       "    <tr style=\"text-align: right;\">\n",
       "      <th></th>\n",
       "      <th>horas</th>\n",
       "      <th>pago</th>\n",
       "      <th>tabelado</th>\n",
       "      <th>modelo 1</th>\n",
       "    </tr>\n",
       "  </thead>\n",
       "  <tbody>\n",
       "    <tr>\n",
       "      <th>0</th>\n",
       "      <td>4.0</td>\n",
       "      <td>1130.370000</td>\n",
       "      <td>1339.5800</td>\n",
       "      <td>1308.26</td>\n",
       "    </tr>\n",
       "    <tr>\n",
       "      <th>1</th>\n",
       "      <td>4.0</td>\n",
       "      <td>964.324850</td>\n",
       "      <td>1339.5800</td>\n",
       "      <td>1308.26</td>\n",
       "    </tr>\n",
       "    <tr>\n",
       "      <th>2</th>\n",
       "      <td>4.0</td>\n",
       "      <td>964.885101</td>\n",
       "      <td>1339.5800</td>\n",
       "      <td>1308.26</td>\n",
       "    </tr>\n",
       "    <tr>\n",
       "      <th>3</th>\n",
       "      <td>4.0</td>\n",
       "      <td>992.371000</td>\n",
       "      <td>1339.5800</td>\n",
       "      <td>1308.26</td>\n",
       "    </tr>\n",
       "    <tr>\n",
       "      <th>4</th>\n",
       "      <td>4.0</td>\n",
       "      <td>1173.910000</td>\n",
       "      <td>1339.5800</td>\n",
       "      <td>1308.26</td>\n",
       "    </tr>\n",
       "    <tr>\n",
       "      <th>5</th>\n",
       "      <td>4.0</td>\n",
       "      <td>1023.957934</td>\n",
       "      <td>1339.5800</td>\n",
       "      <td>1308.26</td>\n",
       "    </tr>\n",
       "    <tr>\n",
       "      <th>6</th>\n",
       "      <td>5.0</td>\n",
       "      <td>1137.170000</td>\n",
       "      <td>1503.0050</td>\n",
       "      <td>1475.18</td>\n",
       "    </tr>\n",
       "    <tr>\n",
       "      <th>7</th>\n",
       "      <td>6.0</td>\n",
       "      <td>1144.530000</td>\n",
       "      <td>1666.4300</td>\n",
       "      <td>1642.10</td>\n",
       "    </tr>\n",
       "    <tr>\n",
       "      <th>8</th>\n",
       "      <td>6.0</td>\n",
       "      <td>1115.850000</td>\n",
       "      <td>1666.4300</td>\n",
       "      <td>1642.10</td>\n",
       "    </tr>\n",
       "    <tr>\n",
       "      <th>9</th>\n",
       "      <td>6.0</td>\n",
       "      <td>1530.630000</td>\n",
       "      <td>1666.4300</td>\n",
       "      <td>1642.10</td>\n",
       "    </tr>\n",
       "    <tr>\n",
       "      <th>10</th>\n",
       "      <td>7.5</td>\n",
       "      <td>1283.600000</td>\n",
       "      <td>1822.4675</td>\n",
       "      <td>1892.49</td>\n",
       "    </tr>\n",
       "    <tr>\n",
       "      <th>11</th>\n",
       "      <td>8.0</td>\n",
       "      <td>1613.130000</td>\n",
       "      <td>1874.4800</td>\n",
       "      <td>1975.95</td>\n",
       "    </tr>\n",
       "    <tr>\n",
       "      <th>12</th>\n",
       "      <td>8.0</td>\n",
       "      <td>1735.000000</td>\n",
       "      <td>1874.4800</td>\n",
       "      <td>1975.95</td>\n",
       "    </tr>\n",
       "    <tr>\n",
       "      <th>13</th>\n",
       "      <td>8.0</td>\n",
       "      <td>1869.670000</td>\n",
       "      <td>1874.4800</td>\n",
       "      <td>1975.95</td>\n",
       "    </tr>\n",
       "    <tr>\n",
       "      <th>14</th>\n",
       "      <td>8.0</td>\n",
       "      <td>1568.160000</td>\n",
       "      <td>1874.4800</td>\n",
       "      <td>1975.95</td>\n",
       "    </tr>\n",
       "    <tr>\n",
       "      <th>15</th>\n",
       "      <td>9.0</td>\n",
       "      <td>1734.300000</td>\n",
       "      <td>2094.4750</td>\n",
       "      <td>2142.87</td>\n",
       "    </tr>\n",
       "    <tr>\n",
       "      <th>16</th>\n",
       "      <td>8.0</td>\n",
       "      <td>1727.510000</td>\n",
       "      <td>1874.4800</td>\n",
       "      <td>1975.95</td>\n",
       "    </tr>\n",
       "    <tr>\n",
       "      <th>17</th>\n",
       "      <td>10.0</td>\n",
       "      <td>1510.150000</td>\n",
       "      <td>2314.4700</td>\n",
       "      <td>2309.80</td>\n",
       "    </tr>\n",
       "    <tr>\n",
       "      <th>18</th>\n",
       "      <td>10.0</td>\n",
       "      <td>1842.940000</td>\n",
       "      <td>2314.4700</td>\n",
       "      <td>2309.80</td>\n",
       "    </tr>\n",
       "    <tr>\n",
       "      <th>19</th>\n",
       "      <td>10.0</td>\n",
       "      <td>1732.010000</td>\n",
       "      <td>2314.4700</td>\n",
       "      <td>2309.80</td>\n",
       "    </tr>\n",
       "    <tr>\n",
       "      <th>20</th>\n",
       "      <td>10.0</td>\n",
       "      <td>1557.850000</td>\n",
       "      <td>2314.4700</td>\n",
       "      <td>2309.80</td>\n",
       "    </tr>\n",
       "    <tr>\n",
       "      <th>21</th>\n",
       "      <td>10.0</td>\n",
       "      <td>2163.410000</td>\n",
       "      <td>2314.4700</td>\n",
       "      <td>2309.80</td>\n",
       "    </tr>\n",
       "    <tr>\n",
       "      <th>22</th>\n",
       "      <td>10.0</td>\n",
       "      <td>1782.430000</td>\n",
       "      <td>2314.4700</td>\n",
       "      <td>2309.80</td>\n",
       "    </tr>\n",
       "    <tr>\n",
       "      <th>23</th>\n",
       "      <td>10.0</td>\n",
       "      <td>1712.260000</td>\n",
       "      <td>2314.4700</td>\n",
       "      <td>2309.80</td>\n",
       "    </tr>\n",
       "    <tr>\n",
       "      <th>24</th>\n",
       "      <td>10.0</td>\n",
       "      <td>1828.160000</td>\n",
       "      <td>2314.4700</td>\n",
       "      <td>2309.80</td>\n",
       "    </tr>\n",
       "    <tr>\n",
       "      <th>25</th>\n",
       "      <td>10.0</td>\n",
       "      <td>2163.410000</td>\n",
       "      <td>2314.4700</td>\n",
       "      <td>2309.80</td>\n",
       "    </tr>\n",
       "    <tr>\n",
       "      <th>26</th>\n",
       "      <td>10.0</td>\n",
       "      <td>1732.010000</td>\n",
       "      <td>2314.4700</td>\n",
       "      <td>2309.80</td>\n",
       "    </tr>\n",
       "    <tr>\n",
       "      <th>27</th>\n",
       "      <td>10.0</td>\n",
       "      <td>1741.120000</td>\n",
       "      <td>2314.4700</td>\n",
       "      <td>2309.80</td>\n",
       "    </tr>\n",
       "    <tr>\n",
       "      <th>28</th>\n",
       "      <td>10.0</td>\n",
       "      <td>1732.010000</td>\n",
       "      <td>2314.4700</td>\n",
       "      <td>2309.80</td>\n",
       "    </tr>\n",
       "    <tr>\n",
       "      <th>29</th>\n",
       "      <td>10.0</td>\n",
       "      <td>1925.430000</td>\n",
       "      <td>2314.4700</td>\n",
       "      <td>2309.80</td>\n",
       "    </tr>\n",
       "    <tr>\n",
       "      <th>30</th>\n",
       "      <td>10.5</td>\n",
       "      <td>1624.490000</td>\n",
       "      <td>2407.0500</td>\n",
       "      <td>2393.26</td>\n",
       "    </tr>\n",
       "    <tr>\n",
       "      <th>31</th>\n",
       "      <td>10.5</td>\n",
       "      <td>1624.490000</td>\n",
       "      <td>2407.0500</td>\n",
       "      <td>2393.26</td>\n",
       "    </tr>\n",
       "    <tr>\n",
       "      <th>32</th>\n",
       "      <td>11.0</td>\n",
       "      <td>1834.960000</td>\n",
       "      <td>2499.6300</td>\n",
       "      <td>2476.72</td>\n",
       "    </tr>\n",
       "    <tr>\n",
       "      <th>33</th>\n",
       "      <td>11.0</td>\n",
       "      <td>1700.000000</td>\n",
       "      <td>2499.6300</td>\n",
       "      <td>2476.72</td>\n",
       "    </tr>\n",
       "    <tr>\n",
       "      <th>34</th>\n",
       "      <td>11.5</td>\n",
       "      <td>1803.850000</td>\n",
       "      <td>2592.2100</td>\n",
       "      <td>2560.18</td>\n",
       "    </tr>\n",
       "    <tr>\n",
       "      <th>35</th>\n",
       "      <td>12.0</td>\n",
       "      <td>1634.700000</td>\n",
       "      <td>2684.7900</td>\n",
       "      <td>2643.64</td>\n",
       "    </tr>\n",
       "    <tr>\n",
       "      <th>36</th>\n",
       "      <td>12.5</td>\n",
       "      <td>1373.660000</td>\n",
       "      <td>2684.7900</td>\n",
       "      <td>2727.10</td>\n",
       "    </tr>\n",
       "  </tbody>\n",
       "</table>\n",
       "</div>"
      ],
      "text/plain": [
       "    horas         pago   tabelado  modelo 1\n",
       "0     4.0  1130.370000  1339.5800   1308.26\n",
       "1     4.0   964.324850  1339.5800   1308.26\n",
       "2     4.0   964.885101  1339.5800   1308.26\n",
       "3     4.0   992.371000  1339.5800   1308.26\n",
       "4     4.0  1173.910000  1339.5800   1308.26\n",
       "5     4.0  1023.957934  1339.5800   1308.26\n",
       "6     5.0  1137.170000  1503.0050   1475.18\n",
       "7     6.0  1144.530000  1666.4300   1642.10\n",
       "8     6.0  1115.850000  1666.4300   1642.10\n",
       "9     6.0  1530.630000  1666.4300   1642.10\n",
       "10    7.5  1283.600000  1822.4675   1892.49\n",
       "11    8.0  1613.130000  1874.4800   1975.95\n",
       "12    8.0  1735.000000  1874.4800   1975.95\n",
       "13    8.0  1869.670000  1874.4800   1975.95\n",
       "14    8.0  1568.160000  1874.4800   1975.95\n",
       "15    9.0  1734.300000  2094.4750   2142.87\n",
       "16    8.0  1727.510000  1874.4800   1975.95\n",
       "17   10.0  1510.150000  2314.4700   2309.80\n",
       "18   10.0  1842.940000  2314.4700   2309.80\n",
       "19   10.0  1732.010000  2314.4700   2309.80\n",
       "20   10.0  1557.850000  2314.4700   2309.80\n",
       "21   10.0  2163.410000  2314.4700   2309.80\n",
       "22   10.0  1782.430000  2314.4700   2309.80\n",
       "23   10.0  1712.260000  2314.4700   2309.80\n",
       "24   10.0  1828.160000  2314.4700   2309.80\n",
       "25   10.0  2163.410000  2314.4700   2309.80\n",
       "26   10.0  1732.010000  2314.4700   2309.80\n",
       "27   10.0  1741.120000  2314.4700   2309.80\n",
       "28   10.0  1732.010000  2314.4700   2309.80\n",
       "29   10.0  1925.430000  2314.4700   2309.80\n",
       "30   10.5  1624.490000  2407.0500   2393.26\n",
       "31   10.5  1624.490000  2407.0500   2393.26\n",
       "32   11.0  1834.960000  2499.6300   2476.72\n",
       "33   11.0  1700.000000  2499.6300   2476.72\n",
       "34   11.5  1803.850000  2592.2100   2560.18\n",
       "35   12.0  1634.700000  2684.7900   2643.64\n",
       "36   12.5  1373.660000  2684.7900   2727.10"
      ]
     },
     "execution_count": 16,
     "metadata": {},
     "output_type": "execute_result"
    }
   ],
   "source": [
    "mens_ago['modelo 1'] = v_modelo1(mens_ago['horas'])\n",
    "mens_ago"
   ]
  },
  {
   "cell_type": "code",
   "execution_count": 17,
   "id": "286f3c16-2662-4941-8667-792e9922be89",
   "metadata": {
    "tags": []
   },
   "outputs": [
    {
     "data": {
      "text/plain": [
       "2050.3900000000003"
      ]
     },
     "execution_count": 17,
     "metadata": {},
     "output_type": "execute_result"
    }
   ],
   "source": [
    "# mensalidade média segundo modelo 1\n",
    "mens1 = mens_ago['modelo 1'].mean()\n",
    "mens1"
   ]
  },
  {
   "cell_type": "code",
   "execution_count": 18,
   "id": "90394bf7-fb22-4fa6-ac0c-245359053d91",
   "metadata": {
    "tags": []
   },
   "outputs": [
    {
     "data": {
      "text/plain": [
       "350.51015625000036"
      ]
     },
     "execution_count": 18,
     "metadata": {},
     "output_type": "execute_result"
    }
   ],
   "source": [
    "# lucro médio por aluno\n",
    "mens1-custo_aluno"
   ]
  },
  {
   "cell_type": "code",
   "execution_count": 19,
   "id": "8c93936f-9437-4284-8d28-ef81acbe70c0",
   "metadata": {
    "tags": []
   },
   "outputs": [
    {
     "data": {
      "text/plain": [
       "13459.590000000013"
      ]
     },
     "execution_count": 19,
     "metadata": {},
     "output_type": "execute_result"
    }
   ],
   "source": [
    "# lucro médio mensal possível nos meses estudados com o modelo linear\n",
    "(mens1-custo_aluno)*despesas['n'].mean()"
   ]
  },
  {
   "cell_type": "code",
   "execution_count": 20,
   "id": "eef88d8c-c86d-49c2-9a58-f222a8b1b89f",
   "metadata": {
    "tags": []
   },
   "outputs": [
    {
     "data": {
      "text/plain": [
       "13281.027405405397"
      ]
     },
     "execution_count": 20,
     "metadata": {},
     "output_type": "execute_result"
    }
   ],
   "source": [
    "# lucro médio mensal possível nos meses estudados com a tabela vigente\n",
    "(mens_ago['tabelado'].mean()-custo_aluno)*despesas['n'].mean()"
   ]
  },
  {
   "cell_type": "markdown",
   "id": "b67f6822-3516-4107-a823-b9a72b63da54",
   "metadata": {},
   "source": [
    "## Comparando o modelo 1 com a concorrência estudada. "
   ]
  },
  {
   "cell_type": "code",
   "execution_count": 21,
   "id": "04950f25-55ac-4de1-b700-04146a41d526",
   "metadata": {
    "tags": []
   },
   "outputs": [
    {
     "data": {
      "text/html": [
       "<div>\n",
       "<style scoped>\n",
       "    .dataframe tbody tr th:only-of-type {\n",
       "        vertical-align: middle;\n",
       "    }\n",
       "\n",
       "    .dataframe tbody tr th {\n",
       "        vertical-align: top;\n",
       "    }\n",
       "\n",
       "    .dataframe thead th {\n",
       "        text-align: right;\n",
       "    }\n",
       "</style>\n",
       "<table border=\"1\" class=\"dataframe\">\n",
       "  <thead>\n",
       "    <tr style=\"text-align: right;\">\n",
       "      <th></th>\n",
       "      <th>horas</th>\n",
       "      <th>A</th>\n",
       "      <th>B</th>\n",
       "    </tr>\n",
       "  </thead>\n",
       "  <tbody>\n",
       "    <tr>\n",
       "      <th>0</th>\n",
       "      <td>4.0</td>\n",
       "      <td>938.21</td>\n",
       "      <td>1047.20</td>\n",
       "    </tr>\n",
       "    <tr>\n",
       "      <th>1</th>\n",
       "      <td>6.0</td>\n",
       "      <td>2253.22</td>\n",
       "      <td>1204.28</td>\n",
       "    </tr>\n",
       "    <tr>\n",
       "      <th>2</th>\n",
       "      <td>8.0</td>\n",
       "      <td>2425.41</td>\n",
       "      <td>2513.27</td>\n",
       "    </tr>\n",
       "    <tr>\n",
       "      <th>3</th>\n",
       "      <td>10.0</td>\n",
       "      <td>2894.98</td>\n",
       "      <td>2722.71</td>\n",
       "    </tr>\n",
       "    <tr>\n",
       "      <th>4</th>\n",
       "      <td>12.0</td>\n",
       "      <td>3019.42</td>\n",
       "      <td>2932.15</td>\n",
       "    </tr>\n",
       "  </tbody>\n",
       "</table>\n",
       "</div>"
      ],
      "text/plain": [
       "   horas        A        B\n",
       "0    4.0   938.21  1047.20\n",
       "1    6.0  2253.22  1204.28\n",
       "2    8.0  2425.41  2513.27\n",
       "3   10.0  2894.98  2722.71\n",
       "4   12.0  3019.42  2932.15"
      ]
     },
     "execution_count": 21,
     "metadata": {},
     "output_type": "execute_result"
    }
   ],
   "source": [
    "concorrencia = pd.read_csv('../dados/concorrencia.csv')\n",
    "concorrencia"
   ]
  },
  {
   "cell_type": "markdown",
   "id": "6c33a306-49aa-439e-b12a-397bc86e7345",
   "metadata": {},
   "source": [
    "Gráfico comparando a tabela, o modelo e a concorrência:"
   ]
  },
  {
   "cell_type": "code",
   "execution_count": 22,
   "id": "b53e2fc6-c2b4-4a87-9d01-a3ec7a22a7c2",
   "metadata": {
    "tags": []
   },
   "outputs": [
    {
     "data": {
      "image/png": "[encoded data removed]",
      "text/plain": [
       "<Figure size 640x480 with 1 Axes>"
      ]
     },
     "metadata": {},
     "output_type": "display_data"
    }
   ],
   "source": [
    "fig, ax = plt.subplots()\n",
    "\n",
    "ax.plot(\n",
    "    plano_2023['horas'],\n",
    "    plano_2023['valores'],\n",
    "    marker='o',\n",
    "    color='green',\n",
    "    linestyle='--',\n",
    "    label='tabela 2023',\n",
    ")\n",
    "ax.plot(\n",
    "    h,\n",
    "    v_modelo1(h),\n",
    "    color='red',\n",
    "    linestyle='-',\n",
    "    label='modelo linear',\n",
    ")\n",
    "\n",
    "ax.plot(\n",
    "    concorrencia['horas'],\n",
    "    concorrencia['A'],\n",
    "    marker='o',\n",
    "    color='orange',\n",
    "    linestyle='--',\n",
    "    label='escola A',\n",
    ")\n",
    "\n",
    "ax.plot(\n",
    "    concorrencia['horas'],\n",
    "    concorrencia['B'],\n",
    "    marker='o',\n",
    "    color='violet',\n",
    "    linestyle='--',\n",
    "    label='escola B',\n",
    ")\n",
    "\n",
    "ax.set_title('Valores tabelados, modelo 1 e concorrência')\n",
    "ax.set_xlabel('horas na escola')\n",
    "ax.set_ylabel('valores em reais')\n",
    "ax.legend(loc='upper left', ncols=1)\n",
    "\n",
    "fig.savefig('../imagens/mensalidades_2023_concorrencia.png')"
   ]
  },
  {
   "cell_type": "markdown",
   "id": "5f1e50b9-a8e1-4f6f-bb6b-3baf092b5306",
   "metadata": {
    "tags": []
   },
   "source": [
    "# Modelo 2 para as mensalidades tabeladas para 2023\n",
    "\n",
    "Cálculo do valor médio da hora no modelo linear (usamos o mês de agosto como referência para a distribuição dos alunos segundo as horas de permanência na escola))"
   ]
  },
  {
   "cell_type": "code",
   "execution_count": 23,
   "id": "7309c73d-1d83-487d-ac34-6b8e72882db0",
   "metadata": {
    "tags": []
   },
   "outputs": [
    {
     "data": {
      "text/plain": [
       "242.76617600000006"
      ]
     },
     "execution_count": 23,
     "metadata": {},
     "output_type": "execute_result"
    }
   ],
   "source": [
    "valor_hora_modelo1 = mens1/mens_ago['horas'].mean()\n",
    "valor_hora_modelo1"
   ]
  },
  {
   "cell_type": "markdown",
   "id": "c18e7283-d307-4f0e-b67a-569f4809610f",
   "metadata": {},
   "source": [
    "Cálculo do custo de 1 aluno por hora de permanência na escola"
   ]
  },
  {
   "cell_type": "code",
   "execution_count": 24,
   "id": "7f8000a7-590d-4448-9d01-3d1ca4090ca2",
   "metadata": {
    "tags": []
   },
   "outputs": [
    {
     "data": {
      "text/plain": [
       "201.2657735"
      ]
     },
     "execution_count": 24,
     "metadata": {},
     "output_type": "execute_result"
    }
   ],
   "source": [
    "custo_aluno/mens_ago['horas'].mean()"
   ]
  },
  {
   "cell_type": "markdown",
   "id": "6a0a8af6-ceac-4ac4-bd1c-a02dfb6a449a",
   "metadata": {},
   "source": [
    "Considerando a mesma distribuição, queremos quanto seria o valor médio da hora nas escolas A e B."
   ]
  },
  {
   "cell_type": "code",
   "execution_count": 25,
   "id": "b581a3a0-885d-4ae0-afa6-e7aed0f63591",
   "metadata": {
    "tags": []
   },
   "outputs": [],
   "source": [
    "mens_ago2  = mens_ago.merge(concorrencia, left_on='horas', right_on='horas', how='left')"
   ]
  },
  {
   "cell_type": "code",
   "execution_count": 26,
   "id": "ef2d1971-bcc4-4994-a3f4-4f505437b4c2",
   "metadata": {
    "tags": []
   },
   "outputs": [
    {
     "data": {
      "text/html": [
       "<div>\n",
       "<style scoped>\n",
       "    .dataframe tbody tr th:only-of-type {\n",
       "        vertical-align: middle;\n",
       "    }\n",
       "\n",
       "    .dataframe tbody tr th {\n",
       "        vertical-align: top;\n",
       "    }\n",
       "\n",
       "    .dataframe thead th {\n",
       "        text-align: right;\n",
       "    }\n",
       "</style>\n",
       "<table border=\"1\" class=\"dataframe\">\n",
       "  <thead>\n",
       "    <tr style=\"text-align: right;\">\n",
       "      <th></th>\n",
       "      <th>pago</th>\n",
       "      <th>tabelado</th>\n",
       "      <th>modelo 1</th>\n",
       "      <th>A</th>\n",
       "      <th>B</th>\n",
       "    </tr>\n",
       "    <tr>\n",
       "      <th>horas</th>\n",
       "      <th></th>\n",
       "      <th></th>\n",
       "      <th></th>\n",
       "      <th></th>\n",
       "      <th></th>\n",
       "    </tr>\n",
       "  </thead>\n",
       "  <tbody>\n",
       "    <tr>\n",
       "      <th>4.0</th>\n",
       "      <td>1130.370000</td>\n",
       "      <td>1339.5800</td>\n",
       "      <td>1308.26</td>\n",
       "      <td>938.21</td>\n",
       "      <td>1047.20</td>\n",
       "    </tr>\n",
       "    <tr>\n",
       "      <th>4.0</th>\n",
       "      <td>964.324850</td>\n",
       "      <td>1339.5800</td>\n",
       "      <td>1308.26</td>\n",
       "      <td>938.21</td>\n",
       "      <td>1047.20</td>\n",
       "    </tr>\n",
       "    <tr>\n",
       "      <th>4.0</th>\n",
       "      <td>964.885101</td>\n",
       "      <td>1339.5800</td>\n",
       "      <td>1308.26</td>\n",
       "      <td>938.21</td>\n",
       "      <td>1047.20</td>\n",
       "    </tr>\n",
       "    <tr>\n",
       "      <th>4.0</th>\n",
       "      <td>992.371000</td>\n",
       "      <td>1339.5800</td>\n",
       "      <td>1308.26</td>\n",
       "      <td>938.21</td>\n",
       "      <td>1047.20</td>\n",
       "    </tr>\n",
       "    <tr>\n",
       "      <th>4.0</th>\n",
       "      <td>1173.910000</td>\n",
       "      <td>1339.5800</td>\n",
       "      <td>1308.26</td>\n",
       "      <td>938.21</td>\n",
       "      <td>1047.20</td>\n",
       "    </tr>\n",
       "    <tr>\n",
       "      <th>4.0</th>\n",
       "      <td>1023.957934</td>\n",
       "      <td>1339.5800</td>\n",
       "      <td>1308.26</td>\n",
       "      <td>938.21</td>\n",
       "      <td>1047.20</td>\n",
       "    </tr>\n",
       "    <tr>\n",
       "      <th>5.0</th>\n",
       "      <td>1137.170000</td>\n",
       "      <td>1503.0050</td>\n",
       "      <td>1475.18</td>\n",
       "      <td>NaN</td>\n",
       "      <td>NaN</td>\n",
       "    </tr>\n",
       "    <tr>\n",
       "      <th>6.0</th>\n",
       "      <td>1144.530000</td>\n",
       "      <td>1666.4300</td>\n",
       "      <td>1642.10</td>\n",
       "      <td>2253.22</td>\n",
       "      <td>1204.28</td>\n",
       "    </tr>\n",
       "    <tr>\n",
       "      <th>6.0</th>\n",
       "      <td>1115.850000</td>\n",
       "      <td>1666.4300</td>\n",
       "      <td>1642.10</td>\n",
       "      <td>2253.22</td>\n",
       "      <td>1204.28</td>\n",
       "    </tr>\n",
       "    <tr>\n",
       "      <th>6.0</th>\n",
       "      <td>1530.630000</td>\n",
       "      <td>1666.4300</td>\n",
       "      <td>1642.10</td>\n",
       "      <td>2253.22</td>\n",
       "      <td>1204.28</td>\n",
       "    </tr>\n",
       "    <tr>\n",
       "      <th>7.5</th>\n",
       "      <td>1283.600000</td>\n",
       "      <td>1822.4675</td>\n",
       "      <td>1892.49</td>\n",
       "      <td>NaN</td>\n",
       "      <td>NaN</td>\n",
       "    </tr>\n",
       "    <tr>\n",
       "      <th>8.0</th>\n",
       "      <td>1613.130000</td>\n",
       "      <td>1874.4800</td>\n",
       "      <td>1975.95</td>\n",
       "      <td>2425.41</td>\n",
       "      <td>2513.27</td>\n",
       "    </tr>\n",
       "    <tr>\n",
       "      <th>8.0</th>\n",
       "      <td>1735.000000</td>\n",
       "      <td>1874.4800</td>\n",
       "      <td>1975.95</td>\n",
       "      <td>2425.41</td>\n",
       "      <td>2513.27</td>\n",
       "    </tr>\n",
       "    <tr>\n",
       "      <th>8.0</th>\n",
       "      <td>1869.670000</td>\n",
       "      <td>1874.4800</td>\n",
       "      <td>1975.95</td>\n",
       "      <td>2425.41</td>\n",
       "      <td>2513.27</td>\n",
       "    </tr>\n",
       "    <tr>\n",
       "      <th>8.0</th>\n",
       "      <td>1568.160000</td>\n",
       "      <td>1874.4800</td>\n",
       "      <td>1975.95</td>\n",
       "      <td>2425.41</td>\n",
       "      <td>2513.27</td>\n",
       "    </tr>\n",
       "    <tr>\n",
       "      <th>9.0</th>\n",
       "      <td>1734.300000</td>\n",
       "      <td>2094.4750</td>\n",
       "      <td>2142.87</td>\n",
       "      <td>NaN</td>\n",
       "      <td>NaN</td>\n",
       "    </tr>\n",
       "    <tr>\n",
       "      <th>8.0</th>\n",
       "      <td>1727.510000</td>\n",
       "      <td>1874.4800</td>\n",
       "      <td>1975.95</td>\n",
       "      <td>2425.41</td>\n",
       "      <td>2513.27</td>\n",
       "    </tr>\n",
       "    <tr>\n",
       "      <th>10.0</th>\n",
       "      <td>1510.150000</td>\n",
       "      <td>2314.4700</td>\n",
       "      <td>2309.80</td>\n",
       "      <td>2894.98</td>\n",
       "      <td>2722.71</td>\n",
       "    </tr>\n",
       "    <tr>\n",
       "      <th>10.0</th>\n",
       "      <td>1842.940000</td>\n",
       "      <td>2314.4700</td>\n",
       "      <td>2309.80</td>\n",
       "      <td>2894.98</td>\n",
       "      <td>2722.71</td>\n",
       "    </tr>\n",
       "    <tr>\n",
       "      <th>10.0</th>\n",
       "      <td>1732.010000</td>\n",
       "      <td>2314.4700</td>\n",
       "      <td>2309.80</td>\n",
       "      <td>2894.98</td>\n",
       "      <td>2722.71</td>\n",
       "    </tr>\n",
       "    <tr>\n",
       "      <th>10.0</th>\n",
       "      <td>1557.850000</td>\n",
       "      <td>2314.4700</td>\n",
       "      <td>2309.80</td>\n",
       "      <td>2894.98</td>\n",
       "      <td>2722.71</td>\n",
       "    </tr>\n",
       "    <tr>\n",
       "      <th>10.0</th>\n",
       "      <td>2163.410000</td>\n",
       "      <td>2314.4700</td>\n",
       "      <td>2309.80</td>\n",
       "      <td>2894.98</td>\n",
       "      <td>2722.71</td>\n",
       "    </tr>\n",
       "    <tr>\n",
       "      <th>10.0</th>\n",
       "      <td>1782.430000</td>\n",
       "      <td>2314.4700</td>\n",
       "      <td>2309.80</td>\n",
       "      <td>2894.98</td>\n",
       "      <td>2722.71</td>\n",
       "    </tr>\n",
       "    <tr>\n",
       "      <th>10.0</th>\n",
       "      <td>1712.260000</td>\n",
       "      <td>2314.4700</td>\n",
       "      <td>2309.80</td>\n",
       "      <td>2894.98</td>\n",
       "      <td>2722.71</td>\n",
       "    </tr>\n",
       "    <tr>\n",
       "      <th>10.0</th>\n",
       "      <td>1828.160000</td>\n",
       "      <td>2314.4700</td>\n",
       "      <td>2309.80</td>\n",
       "      <td>2894.98</td>\n",
       "      <td>2722.71</td>\n",
       "    </tr>\n",
       "    <tr>\n",
       "      <th>10.0</th>\n",
       "      <td>2163.410000</td>\n",
       "      <td>2314.4700</td>\n",
       "      <td>2309.80</td>\n",
       "      <td>2894.98</td>\n",
       "      <td>2722.71</td>\n",
       "    </tr>\n",
       "    <tr>\n",
       "      <th>10.0</th>\n",
       "      <td>1732.010000</td>\n",
       "      <td>2314.4700</td>\n",
       "      <td>2309.80</td>\n",
       "      <td>2894.98</td>\n",
       "      <td>2722.71</td>\n",
       "    </tr>\n",
       "    <tr>\n",
       "      <th>10.0</th>\n",
       "      <td>1741.120000</td>\n",
       "      <td>2314.4700</td>\n",
       "      <td>2309.80</td>\n",
       "      <td>2894.98</td>\n",
       "      <td>2722.71</td>\n",
       "    </tr>\n",
       "    <tr>\n",
       "      <th>10.0</th>\n",
       "      <td>1732.010000</td>\n",
       "      <td>2314.4700</td>\n",
       "      <td>2309.80</td>\n",
       "      <td>2894.98</td>\n",
       "      <td>2722.71</td>\n",
       "    </tr>\n",
       "    <tr>\n",
       "      <th>10.0</th>\n",
       "      <td>1925.430000</td>\n",
       "      <td>2314.4700</td>\n",
       "      <td>2309.80</td>\n",
       "      <td>2894.98</td>\n",
       "      <td>2722.71</td>\n",
       "    </tr>\n",
       "    <tr>\n",
       "      <th>10.5</th>\n",
       "      <td>1624.490000</td>\n",
       "      <td>2407.0500</td>\n",
       "      <td>2393.26</td>\n",
       "      <td>NaN</td>\n",
       "      <td>NaN</td>\n",
       "    </tr>\n",
       "    <tr>\n",
       "      <th>10.5</th>\n",
       "      <td>1624.490000</td>\n",
       "      <td>2407.0500</td>\n",
       "      <td>2393.26</td>\n",
       "      <td>NaN</td>\n",
       "      <td>NaN</td>\n",
       "    </tr>\n",
       "    <tr>\n",
       "      <th>11.0</th>\n",
       "      <td>1834.960000</td>\n",
       "      <td>2499.6300</td>\n",
       "      <td>2476.72</td>\n",
       "      <td>NaN</td>\n",
       "      <td>NaN</td>\n",
       "    </tr>\n",
       "    <tr>\n",
       "      <th>11.0</th>\n",
       "      <td>1700.000000</td>\n",
       "      <td>2499.6300</td>\n",
       "      <td>2476.72</td>\n",
       "      <td>NaN</td>\n",
       "      <td>NaN</td>\n",
       "    </tr>\n",
       "    <tr>\n",
       "      <th>11.5</th>\n",
       "      <td>1803.850000</td>\n",
       "      <td>2592.2100</td>\n",
       "      <td>2560.18</td>\n",
       "      <td>NaN</td>\n",
       "      <td>NaN</td>\n",
       "    </tr>\n",
       "    <tr>\n",
       "      <th>12.0</th>\n",
       "      <td>1634.700000</td>\n",
       "      <td>2684.7900</td>\n",
       "      <td>2643.64</td>\n",
       "      <td>3019.42</td>\n",
       "      <td>2932.15</td>\n",
       "    </tr>\n",
       "    <tr>\n",
       "      <th>12.5</th>\n",
       "      <td>1373.660000</td>\n",
       "      <td>2684.7900</td>\n",
       "      <td>2727.10</td>\n",
       "      <td>NaN</td>\n",
       "      <td>NaN</td>\n",
       "    </tr>\n",
       "  </tbody>\n",
       "</table>\n",
       "</div>"
      ],
      "text/plain": [
       "              pago   tabelado  modelo 1        A        B\n",
       "horas                                                    \n",
       "4.0    1130.370000  1339.5800   1308.26   938.21  1047.20\n",
       "4.0     964.324850  1339.5800   1308.26   938.21  1047.20\n",
       "4.0     964.885101  1339.5800   1308.26   938.21  1047.20\n",
       "4.0     992.371000  1339.5800   1308.26   938.21  1047.20\n",
       "4.0    1173.910000  1339.5800   1308.26   938.21  1047.20\n",
       "4.0    1023.957934  1339.5800   1308.26   938.21  1047.20\n",
       "5.0    1137.170000  1503.0050   1475.18      NaN      NaN\n",
       "6.0    1144.530000  1666.4300   1642.10  2253.22  1204.28\n",
       "6.0    1115.850000  1666.4300   1642.10  2253.22  1204.28\n",
       "6.0    1530.630000  1666.4300   1642.10  2253.22  1204.28\n",
       "7.5    1283.600000  1822.4675   1892.49      NaN      NaN\n",
       "8.0    1613.130000  1874.4800   1975.95  2425.41  2513.27\n",
       "8.0    1735.000000  1874.4800   1975.95  2425.41  2513.27\n",
       "8.0    1869.670000  1874.4800   1975.95  2425.41  2513.27\n",
       "8.0    1568.160000  1874.4800   1975.95  2425.41  2513.27\n",
       "9.0    1734.300000  2094.4750   2142.87      NaN      NaN\n",
       "8.0    1727.510000  1874.4800   1975.95  2425.41  2513.27\n",
       "10.0   1510.150000  2314.4700   2309.80  2894.98  2722.71\n",
       "10.0   1842.940000  2314.4700   2309.80  2894.98  2722.71\n",
       "10.0   1732.010000  2314.4700   2309.80  2894.98  2722.71\n",
       "10.0   1557.850000  2314.4700   2309.80  2894.98  2722.71\n",
       "10.0   2163.410000  2314.4700   2309.80  2894.98  2722.71\n",
       "10.0   1782.430000  2314.4700   2309.80  2894.98  2722.71\n",
       "10.0   1712.260000  2314.4700   2309.80  2894.98  2722.71\n",
       "10.0   1828.160000  2314.4700   2309.80  2894.98  2722.71\n",
       "10.0   2163.410000  2314.4700   2309.80  2894.98  2722.71\n",
       "10.0   1732.010000  2314.4700   2309.80  2894.98  2722.71\n",
       "10.0   1741.120000  2314.4700   2309.80  2894.98  2722.71\n",
       "10.0   1732.010000  2314.4700   2309.80  2894.98  2722.71\n",
       "10.0   1925.430000  2314.4700   2309.80  2894.98  2722.71\n",
       "10.5   1624.490000  2407.0500   2393.26      NaN      NaN\n",
       "10.5   1624.490000  2407.0500   2393.26      NaN      NaN\n",
       "11.0   1834.960000  2499.6300   2476.72      NaN      NaN\n",
       "11.0   1700.000000  2499.6300   2476.72      NaN      NaN\n",
       "11.5   1803.850000  2592.2100   2560.18      NaN      NaN\n",
       "12.0   1634.700000  2684.7900   2643.64  3019.42  2932.15\n",
       "12.5   1373.660000  2684.7900   2727.10      NaN      NaN"
      ]
     },
     "execution_count": 26,
     "metadata": {},
     "output_type": "execute_result"
    }
   ],
   "source": [
    "mens_ago2.set_index('horas')"
   ]
  },
  {
   "cell_type": "code",
   "execution_count": 27,
   "id": "ebe7227f",
   "metadata": {
    "tags": []
   },
   "outputs": [],
   "source": [
    "# interpolação linear para prever valores não estipulados na tabela da concorrência\n",
    "mens_ago3 = mens_ago2.interpolate(method='index')"
   ]
  },
  {
   "cell_type": "code",
   "execution_count": 28,
   "id": "9a62a97d-05a2-464d-8b36-2b7dc07240c6",
   "metadata": {
    "tags": []
   },
   "outputs": [
    {
     "data": {
      "text/plain": [
       "285.875168"
      ]
     },
     "execution_count": 28,
     "metadata": {},
     "output_type": "execute_result"
    }
   ],
   "source": [
    "# media do valor da hora na escola A\n",
    "valor_hora_A = mens_ago3['A'].mean()/mens_ago['horas'].mean()\n",
    "valor_hora_A"
   ]
  },
  {
   "cell_type": "code",
   "execution_count": 29,
   "id": "b8a4d15d-1e20-4ea3-83ce-5f6bbf5010f6",
   "metadata": {
    "tags": []
   },
   "outputs": [
    {
     "data": {
      "text/plain": [
       "266.741936"
      ]
     },
     "execution_count": 29,
     "metadata": {},
     "output_type": "execute_result"
    }
   ],
   "source": [
    "# media do valor da hora na escola B\n",
    "valor_hora_B = mens_ago3['B'].mean()/mens_ago['horas'].mean()\n",
    "valor_hora_B"
   ]
  },
  {
   "cell_type": "markdown",
   "id": "27790c59-38e4-4807-b253-f8b9b2de4b4d",
   "metadata": {},
   "source": [
    "Gráfico com as mensalidades médias considerando a disribuição de agosto"
   ]
  },
  {
   "cell_type": "code",
   "execution_count": 30,
   "id": "ce5bcf6e-9037-48be-8383-4cad86b61d4e",
   "metadata": {
    "tags": []
   },
   "outputs": [
    {
     "data": {
      "image/png": "[encoded data removed]",
      "text/plain": [
       "<Figure size 640x480 with 1 Axes>"
      ]
     },
     "metadata": {},
     "output_type": "display_data"
    }
   ],
   "source": [
    "fig, ax = plt.subplots()\n",
    "\n",
    "ax.plot(\n",
    "    h,\n",
    "    v_modelo1(h),\n",
    "    color='red',\n",
    "    linestyle='-',\n",
    "    label='modelo linear',\n",
    ")\n",
    "\n",
    "ax.plot(\n",
    "    concorrencia['horas'],\n",
    "    concorrencia['A'],\n",
    "    marker='o',\n",
    "    color='orange',\n",
    "    linestyle='-',\n",
    "    label='escola A',\n",
    ")\n",
    "\n",
    "ax.plot(\n",
    "    concorrencia['horas'],\n",
    "    concorrencia['B'],\n",
    "    marker='o',\n",
    "    color='violet',\n",
    "    linestyle='-',\n",
    "    label='escola B',\n",
    ")\n",
    "\n",
    "ax.hlines(\n",
    "    [mens_ago3['modelo 1'].mean(), mens_ago3['A'].mean(), mens_ago3['B'].mean()],\n",
    "    3, 13,\n",
    "    color =['red','orange', 'violet'],\n",
    "    linestyle='--',\n",
    "    label='valores médios',\n",
    ")\n",
    "\n",
    "ax.set_title('Valores tabelados, modelo 1 e concorrência')\n",
    "ax.set_xlabel('horas na escola')\n",
    "ax.set_ylabel('valores em reais')\n",
    "ax.legend(loc='upper left', ncols=1)\n",
    "\n",
    "fig.savefig('../imagens/mensalidades_2023_concorrencia_media.png')"
   ]
  },
  {
   "cell_type": "markdown",
   "id": "4c725ace-1cbc-4db9-a680-cbf1f25e7d4e",
   "metadata": {},
   "source": [
    "Cálculo da mensalidade média para 4 horas das escolas A e B"
   ]
  },
  {
   "cell_type": "code",
   "execution_count": 31,
   "id": "9d1ceaa0-869c-422b-87bc-69fab1c9d3c1",
   "metadata": {
    "tags": []
   },
   "outputs": [
    {
     "data": {
      "text/plain": [
       "992.705"
      ]
     },
     "execution_count": 31,
     "metadata": {},
     "output_type": "execute_result"
    }
   ],
   "source": [
    "(concorrencia['A'][0]+concorrencia['B'][0])/2"
   ]
  },
  {
   "cell_type": "markdown",
   "id": "34cacd0d-1f99-4f2b-97f7-a6362260dd90",
   "metadata": {},
   "source": [
    "Vamos usar um modelo linear onde o valor da hora é de R$ 250"
   ]
  },
  {
   "cell_type": "code",
   "execution_count": 32,
   "id": "b8ad2e82-2140-4d18-a651-37ea00e4075c",
   "metadata": {
    "tags": []
   },
   "outputs": [],
   "source": [
    "def modelo2(h):\n",
    "    return 250*h\n",
    "\n",
    "# vetorizando a função para receber arrays de argumento\n",
    "v_modelo2 = np.vectorize(modelo2)"
   ]
  },
  {
   "cell_type": "code",
   "execution_count": 33,
   "id": "ba2c54b3-9527-4494-9ce4-c06651ab4582",
   "metadata": {
    "tags": []
   },
   "outputs": [
    {
     "data": {
      "image/png": "[encoded data removed]",
      "text/plain": [
       "<Figure size 640x480 with 1 Axes>"
      ]
     },
     "metadata": {},
     "output_type": "display_data"
    }
   ],
   "source": [
    "fig, ax = plt.subplots()\n",
    "\n",
    "ax.plot(\n",
    "    plano_2023['horas'],\n",
    "    plano_2023['valores'],\n",
    "    marker='o',\n",
    "    color='green',\n",
    "    linestyle='--',\n",
    "    label='mensalidade tabelada',\n",
    ")\n",
    "\n",
    "ax.plot(\n",
    "    h,\n",
    "    v_modelo2(h),\n",
    "    color='red',\n",
    "    linestyle='-',\n",
    "    label='modelo linear 2',\n",
    ")\n",
    "\n",
    "ax.plot(\n",
    "    concorrencia['horas'],\n",
    "    concorrencia['A'],\n",
    "    marker='o',\n",
    "    color='orange',\n",
    "    linestyle='-',\n",
    "    label='escola A',\n",
    ")\n",
    "\n",
    "ax.plot(\n",
    "    concorrencia['horas'],\n",
    "    concorrencia['B'],\n",
    "    marker='o',\n",
    "    color='violet',\n",
    "    linestyle='-',\n",
    "    label='escola B',\n",
    ")\n",
    "\n",
    "\n",
    "ax.set_title('Valores tabelados, modelo 2 e concorrência')\n",
    "ax.set_xlabel('horas na escola')\n",
    "ax.set_ylabel('valores em reais')\n",
    "ax.legend(loc='upper left', ncols=1)\n",
    "\n",
    "fig.savefig('../imagens/mensalidades_2023_modelo2.png')"
   ]
  },
  {
   "cell_type": "code",
   "execution_count": 34,
   "id": "5770ced0-bdaa-4e5a-8d2c-a597543651d0",
   "metadata": {
    "tags": []
   },
   "outputs": [],
   "source": [
    "mens_ago['modelo 2'] = v_modelo2(mens_ago['horas'])"
   ]
  },
  {
   "cell_type": "markdown",
   "id": "d5896013-be42-4b62-8eab-b54f38a1c2de",
   "metadata": {},
   "source": [
    "Definindo um teste para saber se os modelos mais complexos também serão capazes de suprir as despesas e ganhar da concorrência."
   ]
  },
  {
   "cell_type": "code",
   "execution_count": 35,
   "id": "0828e424-d709-4f66-9683-b61f9c603a3e",
   "metadata": {
    "tags": []
   },
   "outputs": [],
   "source": [
    "def teste(modelo):\n",
    "    if mens_ago[modelo].mean() <= despesas['valores'].mean():\n",
    "        print('lucro mensal médio de ','R$',np.round((mens_ago[modelo].mean()-custo_aluno)*despesas['n'].mean(),2)  )\n",
    "    else:\n",
    "        print('não cobre as despesas')"
   ]
  },
  {
   "cell_type": "code",
   "execution_count": 36,
   "id": "60a8133d-e191-490e-bde1-2c75ee73580e",
   "metadata": {
    "tags": []
   },
   "outputs": [
    {
     "name": "stdout",
     "output_type": "stream",
     "text": [
      "lucro mensal médio de  R$ 13459.59\n"
     ]
    }
   ],
   "source": [
    "teste('modelo 1')"
   ]
  },
  {
   "cell_type": "code",
   "execution_count": 37,
   "id": "f79b9fd8-2394-4b6c-b55f-13e18507bf21",
   "metadata": {
    "tags": []
   },
   "outputs": [
    {
     "name": "stdout",
     "output_type": "stream",
     "text": [
      "lucro mensal médio de  R$ 15805.7\n"
     ]
    }
   ],
   "source": [
    "teste('modelo 2')"
   ]
  },
  {
   "cell_type": "markdown",
   "id": "155e3f7a-080a-4cff-8795-a375e52604e7",
   "metadata": {},
   "source": [
    "#  Modelo 3 para o cálculo de mensalidades"
   ]
  },
  {
   "cell_type": "markdown",
   "id": "9a32acbd-1861-4c43-9241-80161186c658",
   "metadata": {},
   "source": [
    "Suavizando a curva de mensalidades para mais de 8h de permanência na escola.\n",
    "\n",
    "O desconto seá aplicado no valor das horas excedentes a 8h."
   ]
  },
  {
   "cell_type": "code",
   "execution_count": 38,
   "id": "5ec52d4e-e9c1-46bc-b5a8-ee2c92aaffa2",
   "metadata": {
    "tags": []
   },
   "outputs": [],
   "source": [
    "def modelo3(h):\n",
    "    if h<=8:\n",
    "        f = 1\n",
    "    elif h<=9:\n",
    "        f = 0.95\n",
    "    elif h<=10:\n",
    "        f = 0.90\n",
    "    elif h<=11:\n",
    "        f = 0.85 \n",
    "    else:\n",
    "        f = 0.80\n",
    "    return np.round(modelo2(h)*f,2)\n",
    "\n",
    "# vetorizando a função para receber arrays de argumento\n",
    "v_modelo3 = np.vectorize(modelo3)"
   ]
  },
  {
   "cell_type": "code",
   "execution_count": 39,
   "id": "a64c72e1-bb8b-43ce-9149-add18c5eb0d7",
   "metadata": {
    "tags": []
   },
   "outputs": [
    {
     "data": {
      "text/plain": [
       "array([1000, 1250, 1500, 1750, 2000, 2137, 2250, 2337, 2400])"
      ]
     },
     "execution_count": 39,
     "metadata": {},
     "output_type": "execute_result"
    }
   ],
   "source": [
    "v_modelo3(h)"
   ]
  },
  {
   "cell_type": "markdown",
   "id": "5b9c7612-bbe4-43d5-b804-85d0d8bec720",
   "metadata": {},
   "source": [
    "Gráfico do modelo suavizado"
   ]
  },
  {
   "cell_type": "code",
   "execution_count": 40,
   "id": "135ae56f-eb0f-4736-8d20-9368fd35a0ef",
   "metadata": {
    "tags": []
   },
   "outputs": [
    {
     "data": {
      "image/png": "[encoded data removed]",
      "text/plain": [
       "<Figure size 640x480 with 1 Axes>"
      ]
     },
     "metadata": {},
     "output_type": "display_data"
    }
   ],
   "source": [
    "fig, ax = plt.subplots()\n",
    "\n",
    "ax.plot(\n",
    "    mens_ago['horas'],\n",
    "    mens_ago['pago'],\n",
    "    marker='o',\n",
    "    color='blue',\n",
    "    lw=0,\n",
    "    label='mensalidade paga',\n",
    ")\n",
    "\n",
    "ax.plot(\n",
    "    plano_2023['horas'],\n",
    "    plano_2023['valores'],\n",
    "    marker='o',\n",
    "    color='green',\n",
    "    linestyle='--',\n",
    "    label='tabela 2023',\n",
    ")\n",
    "ax.plot(\n",
    "    h,\n",
    "    v_modelo3(h),\n",
    "    marker='o',\n",
    "    color='red',\n",
    "    linestyle='-',\n",
    "    label='modelo proposto',\n",
    ")\n",
    "\n",
    "ax.plot(\n",
    "    concorrencia['horas'],\n",
    "    concorrencia['A'],\n",
    "    marker='o',\n",
    "    color='orange',\n",
    "    linestyle='-',\n",
    "    label='escola A',\n",
    ")\n",
    "\n",
    "ax.plot(\n",
    "    concorrencia['horas'],\n",
    "    concorrencia['B'],\n",
    "    marker='o',\n",
    "    color='violet',\n",
    "    linestyle='-',\n",
    "    label='escola B',\n",
    ")\n",
    "\n",
    "ax.set_title('Valores de 2023')\n",
    "ax.set_xlabel('horas na escola')\n",
    "ax.set_ylabel('valores em reais')\n",
    "ax.legend(loc='upper left', ncols=1)\n",
    "\n",
    "fig.savefig('../imagens/mensalidades_2023_modelo3.png')"
   ]
  },
  {
   "cell_type": "code",
   "execution_count": 41,
   "id": "8d89a637-b05a-49ea-85c6-52ad5efce6b6",
   "metadata": {
    "tags": []
   },
   "outputs": [],
   "source": [
    "mens_ago['modelo 3'] = v_modelo3(mens_ago['horas'])"
   ]
  },
  {
   "cell_type": "code",
   "execution_count": 42,
   "id": "45daa8de-90f0-47b0-bbd2-d2fd097e874b",
   "metadata": {
    "tags": []
   },
   "outputs": [
    {
     "name": "stdout",
     "output_type": "stream",
     "text": [
      "lucro mensal médio de  R$ 8774.34\n"
     ]
    }
   ],
   "source": [
    "teste('modelo 3')"
   ]
  },
  {
   "cell_type": "markdown",
   "id": "e9763f82-f75b-4a08-9ec7-471c6cd3ebc2",
   "metadata": {},
   "source": [
    "Cálculo da discrepância entre entre o valor pago em agosto e o modelo proposto"
   ]
  },
  {
   "cell_type": "code",
   "execution_count": 43,
   "id": "8f48b486-ec61-4f1f-bc3a-cf70f3e993ec",
   "metadata": {
    "tags": []
   },
   "outputs": [
    {
     "data": {
      "text/plain": [
       "0    -0.115334\n",
       "1     0.036995\n",
       "2     0.036393\n",
       "3     0.007688\n",
       "4    -0.148146\n",
       "5    -0.023397\n",
       "6     0.099220\n",
       "7     0.310582\n",
       "8     0.344267\n",
       "9    -0.020011\n",
       "10    0.460735\n",
       "11    0.239826\n",
       "12    0.152738\n",
       "13    0.069707\n",
       "14    0.275380\n",
       "15    0.232486\n",
       "16    0.157736\n",
       "17    0.489918\n",
       "18    0.220875\n",
       "19    0.299069\n",
       "20    0.444298\n",
       "21    0.040025\n",
       "22    0.262322\n",
       "23    0.314053\n",
       "24    0.230746\n",
       "25    0.040025\n",
       "26    0.299069\n",
       "27    0.292272\n",
       "28    0.299069\n",
       "29    0.168570\n",
       "30    0.373508\n",
       "31    0.373508\n",
       "32    0.273870\n",
       "33    0.375000\n",
       "34    0.275051\n",
       "35    0.468159\n",
       "36    0.819955\n",
       "dtype: float64"
      ]
     },
     "execution_count": 43,
     "metadata": {},
     "output_type": "execute_result"
    }
   ],
   "source": [
    "(mens_ago['modelo 3']-mens_ago['pago'])/mens_ago['pago']"
   ]
  },
  {
   "cell_type": "markdown",
   "id": "e80e9283-67af-4718-b993-b84d38b5e51d",
   "metadata": {},
   "source": [
    "Seguir o novo modelo aumenta o valor pago em quantos %?"
   ]
  },
  {
   "cell_type": "code",
   "execution_count": 44,
   "id": "dd62430c-cfe1-441a-9602-d89d3bcb472f",
   "metadata": {
    "tags": []
   },
   "outputs": [
    {
     "data": {
      "text/plain": [
       "<Axes: >"
      ]
     },
     "execution_count": 44,
     "metadata": {},
     "output_type": "execute_result"
    },
    {
     "data": {
      "image/png": "[encoded data removed]",
      "text/plain": [
       "<Figure size 640x480 with 1 Axes>"
      ]
     },
     "metadata": {},
     "output_type": "display_data"
    }
   ],
   "source": [
    "aumento = (100*(mens_ago['modelo 3']-mens_ago['pago'])/mens_ago['pago'])\n",
    "aumento.hist()"
   ]
  },
  {
   "cell_type": "markdown",
   "id": "3141e8cd-2966-4d88-b438-1980156c343d",
   "metadata": {},
   "source": [
    "Considerando a ideia de aumentar no máximo 12%"
   ]
  },
  {
   "cell_type": "code",
   "execution_count": 45,
   "id": "4e19d002-0402-4002-bcb2-d575969c91c4",
   "metadata": {
    "tags": []
   },
   "outputs": [
    {
     "data": {
      "text/plain": [
       "0.7027027027027027"
      ]
     },
     "execution_count": 45,
     "metadata": {},
     "output_type": "execute_result"
    }
   ],
   "source": [
    "sum(aumento>12)/len(mens_ago) # aumento maior que 12% para 70% dos alunos"
   ]
  },
  {
   "cell_type": "markdown",
   "id": "d53254ac-75ec-4ecb-81b4-79054e3a8fb5",
   "metadata": {
    "tags": []
   },
   "source": [
    "Considerando um aumento de no máximo 12% para os alunos"
   ]
  },
  {
   "cell_type": "code",
   "execution_count": 46,
   "id": "1d3c0e31-147a-4b85-ab39-de2f2014de2c",
   "metadata": {
    "tags": []
   },
   "outputs": [
    {
     "data": {
      "text/html": [
       "<div>\n",
       "<style scoped>\n",
       "    .dataframe tbody tr th:only-of-type {\n",
       "        vertical-align: middle;\n",
       "    }\n",
       "\n",
       "    .dataframe tbody tr th {\n",
       "        vertical-align: top;\n",
       "    }\n",
       "\n",
       "    .dataframe thead th {\n",
       "        text-align: right;\n",
       "    }\n",
       "</style>\n",
       "<table border=\"1\" class=\"dataframe\">\n",
       "  <thead>\n",
       "    <tr style=\"text-align: right;\">\n",
       "      <th></th>\n",
       "      <th>horas</th>\n",
       "      <th>pago</th>\n",
       "      <th>tabelado</th>\n",
       "      <th>modelo 1</th>\n",
       "      <th>modelo 2</th>\n",
       "      <th>modelo 3</th>\n",
       "      <th>reajustado</th>\n",
       "    </tr>\n",
       "  </thead>\n",
       "  <tbody>\n",
       "    <tr>\n",
       "      <th>0</th>\n",
       "      <td>4.0</td>\n",
       "      <td>1130.370000</td>\n",
       "      <td>1339.5800</td>\n",
       "      <td>1308.26</td>\n",
       "      <td>1000.0</td>\n",
       "      <td>1000.00</td>\n",
       "      <td>1000.00</td>\n",
       "    </tr>\n",
       "    <tr>\n",
       "      <th>1</th>\n",
       "      <td>4.0</td>\n",
       "      <td>964.324850</td>\n",
       "      <td>1339.5800</td>\n",
       "      <td>1308.26</td>\n",
       "      <td>1000.0</td>\n",
       "      <td>1000.00</td>\n",
       "      <td>1000.00</td>\n",
       "    </tr>\n",
       "    <tr>\n",
       "      <th>2</th>\n",
       "      <td>4.0</td>\n",
       "      <td>964.885101</td>\n",
       "      <td>1339.5800</td>\n",
       "      <td>1308.26</td>\n",
       "      <td>1000.0</td>\n",
       "      <td>1000.00</td>\n",
       "      <td>1000.00</td>\n",
       "    </tr>\n",
       "    <tr>\n",
       "      <th>3</th>\n",
       "      <td>4.0</td>\n",
       "      <td>992.371000</td>\n",
       "      <td>1339.5800</td>\n",
       "      <td>1308.26</td>\n",
       "      <td>1000.0</td>\n",
       "      <td>1000.00</td>\n",
       "      <td>1000.00</td>\n",
       "    </tr>\n",
       "    <tr>\n",
       "      <th>4</th>\n",
       "      <td>4.0</td>\n",
       "      <td>1173.910000</td>\n",
       "      <td>1339.5800</td>\n",
       "      <td>1308.26</td>\n",
       "      <td>1000.0</td>\n",
       "      <td>1000.00</td>\n",
       "      <td>1000.00</td>\n",
       "    </tr>\n",
       "    <tr>\n",
       "      <th>5</th>\n",
       "      <td>4.0</td>\n",
       "      <td>1023.957934</td>\n",
       "      <td>1339.5800</td>\n",
       "      <td>1308.26</td>\n",
       "      <td>1000.0</td>\n",
       "      <td>1000.00</td>\n",
       "      <td>1000.00</td>\n",
       "    </tr>\n",
       "    <tr>\n",
       "      <th>6</th>\n",
       "      <td>5.0</td>\n",
       "      <td>1137.170000</td>\n",
       "      <td>1503.0050</td>\n",
       "      <td>1475.18</td>\n",
       "      <td>1250.0</td>\n",
       "      <td>1250.00</td>\n",
       "      <td>1250.00</td>\n",
       "    </tr>\n",
       "    <tr>\n",
       "      <th>7</th>\n",
       "      <td>6.0</td>\n",
       "      <td>1144.530000</td>\n",
       "      <td>1666.4300</td>\n",
       "      <td>1642.10</td>\n",
       "      <td>1500.0</td>\n",
       "      <td>1500.00</td>\n",
       "      <td>1281.87</td>\n",
       "    </tr>\n",
       "    <tr>\n",
       "      <th>8</th>\n",
       "      <td>6.0</td>\n",
       "      <td>1115.850000</td>\n",
       "      <td>1666.4300</td>\n",
       "      <td>1642.10</td>\n",
       "      <td>1500.0</td>\n",
       "      <td>1500.00</td>\n",
       "      <td>1249.75</td>\n",
       "    </tr>\n",
       "    <tr>\n",
       "      <th>9</th>\n",
       "      <td>6.0</td>\n",
       "      <td>1530.630000</td>\n",
       "      <td>1666.4300</td>\n",
       "      <td>1642.10</td>\n",
       "      <td>1500.0</td>\n",
       "      <td>1500.00</td>\n",
       "      <td>1500.00</td>\n",
       "    </tr>\n",
       "    <tr>\n",
       "      <th>10</th>\n",
       "      <td>7.5</td>\n",
       "      <td>1283.600000</td>\n",
       "      <td>1822.4675</td>\n",
       "      <td>1892.49</td>\n",
       "      <td>1875.0</td>\n",
       "      <td>1875.00</td>\n",
       "      <td>1437.63</td>\n",
       "    </tr>\n",
       "    <tr>\n",
       "      <th>11</th>\n",
       "      <td>8.0</td>\n",
       "      <td>1613.130000</td>\n",
       "      <td>1874.4800</td>\n",
       "      <td>1975.95</td>\n",
       "      <td>2000.0</td>\n",
       "      <td>2000.00</td>\n",
       "      <td>1806.71</td>\n",
       "    </tr>\n",
       "    <tr>\n",
       "      <th>12</th>\n",
       "      <td>8.0</td>\n",
       "      <td>1735.000000</td>\n",
       "      <td>1874.4800</td>\n",
       "      <td>1975.95</td>\n",
       "      <td>2000.0</td>\n",
       "      <td>2000.00</td>\n",
       "      <td>1943.20</td>\n",
       "    </tr>\n",
       "    <tr>\n",
       "      <th>13</th>\n",
       "      <td>8.0</td>\n",
       "      <td>1869.670000</td>\n",
       "      <td>1874.4800</td>\n",
       "      <td>1975.95</td>\n",
       "      <td>2000.0</td>\n",
       "      <td>2000.00</td>\n",
       "      <td>2000.00</td>\n",
       "    </tr>\n",
       "    <tr>\n",
       "      <th>14</th>\n",
       "      <td>8.0</td>\n",
       "      <td>1568.160000</td>\n",
       "      <td>1874.4800</td>\n",
       "      <td>1975.95</td>\n",
       "      <td>2000.0</td>\n",
       "      <td>2000.00</td>\n",
       "      <td>1756.34</td>\n",
       "    </tr>\n",
       "    <tr>\n",
       "      <th>15</th>\n",
       "      <td>9.0</td>\n",
       "      <td>1734.300000</td>\n",
       "      <td>2094.4750</td>\n",
       "      <td>2142.87</td>\n",
       "      <td>2250.0</td>\n",
       "      <td>2137.50</td>\n",
       "      <td>1942.42</td>\n",
       "    </tr>\n",
       "    <tr>\n",
       "      <th>16</th>\n",
       "      <td>8.0</td>\n",
       "      <td>1727.510000</td>\n",
       "      <td>1874.4800</td>\n",
       "      <td>1975.95</td>\n",
       "      <td>2000.0</td>\n",
       "      <td>2000.00</td>\n",
       "      <td>1934.81</td>\n",
       "    </tr>\n",
       "    <tr>\n",
       "      <th>17</th>\n",
       "      <td>10.0</td>\n",
       "      <td>1510.150000</td>\n",
       "      <td>2314.4700</td>\n",
       "      <td>2309.80</td>\n",
       "      <td>2500.0</td>\n",
       "      <td>2250.00</td>\n",
       "      <td>1691.37</td>\n",
       "    </tr>\n",
       "    <tr>\n",
       "      <th>18</th>\n",
       "      <td>10.0</td>\n",
       "      <td>1842.940000</td>\n",
       "      <td>2314.4700</td>\n",
       "      <td>2309.80</td>\n",
       "      <td>2500.0</td>\n",
       "      <td>2250.00</td>\n",
       "      <td>2064.09</td>\n",
       "    </tr>\n",
       "    <tr>\n",
       "      <th>19</th>\n",
       "      <td>10.0</td>\n",
       "      <td>1732.010000</td>\n",
       "      <td>2314.4700</td>\n",
       "      <td>2309.80</td>\n",
       "      <td>2500.0</td>\n",
       "      <td>2250.00</td>\n",
       "      <td>1939.85</td>\n",
       "    </tr>\n",
       "    <tr>\n",
       "      <th>20</th>\n",
       "      <td>10.0</td>\n",
       "      <td>1557.850000</td>\n",
       "      <td>2314.4700</td>\n",
       "      <td>2309.80</td>\n",
       "      <td>2500.0</td>\n",
       "      <td>2250.00</td>\n",
       "      <td>1744.79</td>\n",
       "    </tr>\n",
       "    <tr>\n",
       "      <th>21</th>\n",
       "      <td>10.0</td>\n",
       "      <td>2163.410000</td>\n",
       "      <td>2314.4700</td>\n",
       "      <td>2309.80</td>\n",
       "      <td>2500.0</td>\n",
       "      <td>2250.00</td>\n",
       "      <td>2250.00</td>\n",
       "    </tr>\n",
       "    <tr>\n",
       "      <th>22</th>\n",
       "      <td>10.0</td>\n",
       "      <td>1782.430000</td>\n",
       "      <td>2314.4700</td>\n",
       "      <td>2309.80</td>\n",
       "      <td>2500.0</td>\n",
       "      <td>2250.00</td>\n",
       "      <td>1996.32</td>\n",
       "    </tr>\n",
       "    <tr>\n",
       "      <th>23</th>\n",
       "      <td>10.0</td>\n",
       "      <td>1712.260000</td>\n",
       "      <td>2314.4700</td>\n",
       "      <td>2309.80</td>\n",
       "      <td>2500.0</td>\n",
       "      <td>2250.00</td>\n",
       "      <td>1917.73</td>\n",
       "    </tr>\n",
       "    <tr>\n",
       "      <th>24</th>\n",
       "      <td>10.0</td>\n",
       "      <td>1828.160000</td>\n",
       "      <td>2314.4700</td>\n",
       "      <td>2309.80</td>\n",
       "      <td>2500.0</td>\n",
       "      <td>2250.00</td>\n",
       "      <td>2047.54</td>\n",
       "    </tr>\n",
       "    <tr>\n",
       "      <th>25</th>\n",
       "      <td>10.0</td>\n",
       "      <td>2163.410000</td>\n",
       "      <td>2314.4700</td>\n",
       "      <td>2309.80</td>\n",
       "      <td>2500.0</td>\n",
       "      <td>2250.00</td>\n",
       "      <td>2250.00</td>\n",
       "    </tr>\n",
       "    <tr>\n",
       "      <th>26</th>\n",
       "      <td>10.0</td>\n",
       "      <td>1732.010000</td>\n",
       "      <td>2314.4700</td>\n",
       "      <td>2309.80</td>\n",
       "      <td>2500.0</td>\n",
       "      <td>2250.00</td>\n",
       "      <td>1939.85</td>\n",
       "    </tr>\n",
       "    <tr>\n",
       "      <th>27</th>\n",
       "      <td>10.0</td>\n",
       "      <td>1741.120000</td>\n",
       "      <td>2314.4700</td>\n",
       "      <td>2309.80</td>\n",
       "      <td>2500.0</td>\n",
       "      <td>2250.00</td>\n",
       "      <td>1950.05</td>\n",
       "    </tr>\n",
       "    <tr>\n",
       "      <th>28</th>\n",
       "      <td>10.0</td>\n",
       "      <td>1732.010000</td>\n",
       "      <td>2314.4700</td>\n",
       "      <td>2309.80</td>\n",
       "      <td>2500.0</td>\n",
       "      <td>2250.00</td>\n",
       "      <td>1939.85</td>\n",
       "    </tr>\n",
       "    <tr>\n",
       "      <th>29</th>\n",
       "      <td>10.0</td>\n",
       "      <td>1925.430000</td>\n",
       "      <td>2314.4700</td>\n",
       "      <td>2309.80</td>\n",
       "      <td>2500.0</td>\n",
       "      <td>2250.00</td>\n",
       "      <td>2156.48</td>\n",
       "    </tr>\n",
       "    <tr>\n",
       "      <th>30</th>\n",
       "      <td>10.5</td>\n",
       "      <td>1624.490000</td>\n",
       "      <td>2407.0500</td>\n",
       "      <td>2393.26</td>\n",
       "      <td>2625.0</td>\n",
       "      <td>2231.25</td>\n",
       "      <td>1819.43</td>\n",
       "    </tr>\n",
       "    <tr>\n",
       "      <th>31</th>\n",
       "      <td>10.5</td>\n",
       "      <td>1624.490000</td>\n",
       "      <td>2407.0500</td>\n",
       "      <td>2393.26</td>\n",
       "      <td>2625.0</td>\n",
       "      <td>2231.25</td>\n",
       "      <td>1819.43</td>\n",
       "    </tr>\n",
       "    <tr>\n",
       "      <th>32</th>\n",
       "      <td>11.0</td>\n",
       "      <td>1834.960000</td>\n",
       "      <td>2499.6300</td>\n",
       "      <td>2476.72</td>\n",
       "      <td>2750.0</td>\n",
       "      <td>2337.50</td>\n",
       "      <td>2055.16</td>\n",
       "    </tr>\n",
       "    <tr>\n",
       "      <th>33</th>\n",
       "      <td>11.0</td>\n",
       "      <td>1700.000000</td>\n",
       "      <td>2499.6300</td>\n",
       "      <td>2476.72</td>\n",
       "      <td>2750.0</td>\n",
       "      <td>2337.50</td>\n",
       "      <td>1904.00</td>\n",
       "    </tr>\n",
       "    <tr>\n",
       "      <th>34</th>\n",
       "      <td>11.5</td>\n",
       "      <td>1803.850000</td>\n",
       "      <td>2592.2100</td>\n",
       "      <td>2560.18</td>\n",
       "      <td>2875.0</td>\n",
       "      <td>2300.00</td>\n",
       "      <td>2020.31</td>\n",
       "    </tr>\n",
       "    <tr>\n",
       "      <th>35</th>\n",
       "      <td>12.0</td>\n",
       "      <td>1634.700000</td>\n",
       "      <td>2684.7900</td>\n",
       "      <td>2643.64</td>\n",
       "      <td>3000.0</td>\n",
       "      <td>2400.00</td>\n",
       "      <td>1830.86</td>\n",
       "    </tr>\n",
       "    <tr>\n",
       "      <th>36</th>\n",
       "      <td>12.5</td>\n",
       "      <td>1373.660000</td>\n",
       "      <td>2684.7900</td>\n",
       "      <td>2727.10</td>\n",
       "      <td>3125.0</td>\n",
       "      <td>2500.00</td>\n",
       "      <td>1538.50</td>\n",
       "    </tr>\n",
       "  </tbody>\n",
       "</table>\n",
       "</div>"
      ],
      "text/plain": [
       "    horas         pago   tabelado  modelo 1  modelo 2  modelo 3  reajustado\n",
       "0     4.0  1130.370000  1339.5800   1308.26    1000.0   1000.00     1000.00\n",
       "1     4.0   964.324850  1339.5800   1308.26    1000.0   1000.00     1000.00\n",
       "2     4.0   964.885101  1339.5800   1308.26    1000.0   1000.00     1000.00\n",
       "3     4.0   992.371000  1339.5800   1308.26    1000.0   1000.00     1000.00\n",
       "4     4.0  1173.910000  1339.5800   1308.26    1000.0   1000.00     1000.00\n",
       "5     4.0  1023.957934  1339.5800   1308.26    1000.0   1000.00     1000.00\n",
       "6     5.0  1137.170000  1503.0050   1475.18    1250.0   1250.00     1250.00\n",
       "7     6.0  1144.530000  1666.4300   1642.10    1500.0   1500.00     1281.87\n",
       "8     6.0  1115.850000  1666.4300   1642.10    1500.0   1500.00     1249.75\n",
       "9     6.0  1530.630000  1666.4300   1642.10    1500.0   1500.00     1500.00\n",
       "10    7.5  1283.600000  1822.4675   1892.49    1875.0   1875.00     1437.63\n",
       "11    8.0  1613.130000  1874.4800   1975.95    2000.0   2000.00     1806.71\n",
       "12    8.0  1735.000000  1874.4800   1975.95    2000.0   2000.00     1943.20\n",
       "13    8.0  1869.670000  1874.4800   1975.95    2000.0   2000.00     2000.00\n",
       "14    8.0  1568.160000  1874.4800   1975.95    2000.0   2000.00     1756.34\n",
       "15    9.0  1734.300000  2094.4750   2142.87    2250.0   2137.50     1942.42\n",
       "16    8.0  1727.510000  1874.4800   1975.95    2000.0   2000.00     1934.81\n",
       "17   10.0  1510.150000  2314.4700   2309.80    2500.0   2250.00     1691.37\n",
       "18   10.0  1842.940000  2314.4700   2309.80    2500.0   2250.00     2064.09\n",
       "19   10.0  1732.010000  2314.4700   2309.80    2500.0   2250.00     1939.85\n",
       "20   10.0  1557.850000  2314.4700   2309.80    2500.0   2250.00     1744.79\n",
       "21   10.0  2163.410000  2314.4700   2309.80    2500.0   2250.00     2250.00\n",
       "22   10.0  1782.430000  2314.4700   2309.80    2500.0   2250.00     1996.32\n",
       "23   10.0  1712.260000  2314.4700   2309.80    2500.0   2250.00     1917.73\n",
       "24   10.0  1828.160000  2314.4700   2309.80    2500.0   2250.00     2047.54\n",
       "25   10.0  2163.410000  2314.4700   2309.80    2500.0   2250.00     2250.00\n",
       "26   10.0  1732.010000  2314.4700   2309.80    2500.0   2250.00     1939.85\n",
       "27   10.0  1741.120000  2314.4700   2309.80    2500.0   2250.00     1950.05\n",
       "28   10.0  1732.010000  2314.4700   2309.80    2500.0   2250.00     1939.85\n",
       "29   10.0  1925.430000  2314.4700   2309.80    2500.0   2250.00     2156.48\n",
       "30   10.5  1624.490000  2407.0500   2393.26    2625.0   2231.25     1819.43\n",
       "31   10.5  1624.490000  2407.0500   2393.26    2625.0   2231.25     1819.43\n",
       "32   11.0  1834.960000  2499.6300   2476.72    2750.0   2337.50     2055.16\n",
       "33   11.0  1700.000000  2499.6300   2476.72    2750.0   2337.50     1904.00\n",
       "34   11.5  1803.850000  2592.2100   2560.18    2875.0   2300.00     2020.31\n",
       "35   12.0  1634.700000  2684.7900   2643.64    3000.0   2400.00     1830.86\n",
       "36   12.5  1373.660000  2684.7900   2727.10    3125.0   2500.00     1538.50"
      ]
     },
     "execution_count": 46,
     "metadata": {},
     "output_type": "execute_result"
    }
   ],
   "source": [
    "mens_ago['reajustado'] =[\n",
    "                        np.round(min(1.12*mens_ago['pago'][i],mens_ago['modelo 3'][i]),2)\n",
    "                        for i in range(len(mens_ago))\n",
    "                        ]\n",
    "mens_ago\n"
   ]
  },
  {
   "cell_type": "markdown",
   "id": "46db8c13-07fe-417e-b8d7-f52aa75f4238",
   "metadata": {},
   "source": [
    "Transformando a diferença em bolsa"
   ]
  },
  {
   "cell_type": "code",
   "execution_count": 47,
   "id": "abcadc1a-096c-4963-9761-b8ab1703bd50",
   "metadata": {
    "tags": []
   },
   "outputs": [
    {
     "data": {
      "text/html": [
       "<div>\n",
       "<style scoped>\n",
       "    .dataframe tbody tr th:only-of-type {\n",
       "        vertical-align: middle;\n",
       "    }\n",
       "\n",
       "    .dataframe tbody tr th {\n",
       "        vertical-align: top;\n",
       "    }\n",
       "\n",
       "    .dataframe thead th {\n",
       "        text-align: right;\n",
       "    }\n",
       "</style>\n",
       "<table border=\"1\" class=\"dataframe\">\n",
       "  <thead>\n",
       "    <tr style=\"text-align: right;\">\n",
       "      <th></th>\n",
       "      <th>horas</th>\n",
       "      <th>pago</th>\n",
       "      <th>tabelado</th>\n",
       "      <th>modelo 1</th>\n",
       "      <th>modelo 2</th>\n",
       "      <th>modelo 3</th>\n",
       "      <th>reajustado</th>\n",
       "      <th>bolsa%</th>\n",
       "    </tr>\n",
       "  </thead>\n",
       "  <tbody>\n",
       "    <tr>\n",
       "      <th>0</th>\n",
       "      <td>4.0</td>\n",
       "      <td>1130.370000</td>\n",
       "      <td>1339.5800</td>\n",
       "      <td>1308.26</td>\n",
       "      <td>1000.0</td>\n",
       "      <td>1000.00</td>\n",
       "      <td>1000.00</td>\n",
       "      <td>0.0</td>\n",
       "    </tr>\n",
       "    <tr>\n",
       "      <th>1</th>\n",
       "      <td>4.0</td>\n",
       "      <td>964.324850</td>\n",
       "      <td>1339.5800</td>\n",
       "      <td>1308.26</td>\n",
       "      <td>1000.0</td>\n",
       "      <td>1000.00</td>\n",
       "      <td>1000.00</td>\n",
       "      <td>0.0</td>\n",
       "    </tr>\n",
       "    <tr>\n",
       "      <th>2</th>\n",
       "      <td>4.0</td>\n",
       "      <td>964.885101</td>\n",
       "      <td>1339.5800</td>\n",
       "      <td>1308.26</td>\n",
       "      <td>1000.0</td>\n",
       "      <td>1000.00</td>\n",
       "      <td>1000.00</td>\n",
       "      <td>0.0</td>\n",
       "    </tr>\n",
       "    <tr>\n",
       "      <th>3</th>\n",
       "      <td>4.0</td>\n",
       "      <td>992.371000</td>\n",
       "      <td>1339.5800</td>\n",
       "      <td>1308.26</td>\n",
       "      <td>1000.0</td>\n",
       "      <td>1000.00</td>\n",
       "      <td>1000.00</td>\n",
       "      <td>0.0</td>\n",
       "    </tr>\n",
       "    <tr>\n",
       "      <th>4</th>\n",
       "      <td>4.0</td>\n",
       "      <td>1173.910000</td>\n",
       "      <td>1339.5800</td>\n",
       "      <td>1308.26</td>\n",
       "      <td>1000.0</td>\n",
       "      <td>1000.00</td>\n",
       "      <td>1000.00</td>\n",
       "      <td>0.0</td>\n",
       "    </tr>\n",
       "    <tr>\n",
       "      <th>5</th>\n",
       "      <td>4.0</td>\n",
       "      <td>1023.957934</td>\n",
       "      <td>1339.5800</td>\n",
       "      <td>1308.26</td>\n",
       "      <td>1000.0</td>\n",
       "      <td>1000.00</td>\n",
       "      <td>1000.00</td>\n",
       "      <td>0.0</td>\n",
       "    </tr>\n",
       "    <tr>\n",
       "      <th>6</th>\n",
       "      <td>5.0</td>\n",
       "      <td>1137.170000</td>\n",
       "      <td>1503.0050</td>\n",
       "      <td>1475.18</td>\n",
       "      <td>1250.0</td>\n",
       "      <td>1250.00</td>\n",
       "      <td>1250.00</td>\n",
       "      <td>0.0</td>\n",
       "    </tr>\n",
       "    <tr>\n",
       "      <th>7</th>\n",
       "      <td>6.0</td>\n",
       "      <td>1144.530000</td>\n",
       "      <td>1666.4300</td>\n",
       "      <td>1642.10</td>\n",
       "      <td>1500.0</td>\n",
       "      <td>1500.00</td>\n",
       "      <td>1281.87</td>\n",
       "      <td>14.5</td>\n",
       "    </tr>\n",
       "    <tr>\n",
       "      <th>8</th>\n",
       "      <td>6.0</td>\n",
       "      <td>1115.850000</td>\n",
       "      <td>1666.4300</td>\n",
       "      <td>1642.10</td>\n",
       "      <td>1500.0</td>\n",
       "      <td>1500.00</td>\n",
       "      <td>1249.75</td>\n",
       "      <td>16.7</td>\n",
       "    </tr>\n",
       "    <tr>\n",
       "      <th>9</th>\n",
       "      <td>6.0</td>\n",
       "      <td>1530.630000</td>\n",
       "      <td>1666.4300</td>\n",
       "      <td>1642.10</td>\n",
       "      <td>1500.0</td>\n",
       "      <td>1500.00</td>\n",
       "      <td>1500.00</td>\n",
       "      <td>0.0</td>\n",
       "    </tr>\n",
       "    <tr>\n",
       "      <th>10</th>\n",
       "      <td>7.5</td>\n",
       "      <td>1283.600000</td>\n",
       "      <td>1822.4675</td>\n",
       "      <td>1892.49</td>\n",
       "      <td>1875.0</td>\n",
       "      <td>1875.00</td>\n",
       "      <td>1437.63</td>\n",
       "      <td>23.3</td>\n",
       "    </tr>\n",
       "    <tr>\n",
       "      <th>11</th>\n",
       "      <td>8.0</td>\n",
       "      <td>1613.130000</td>\n",
       "      <td>1874.4800</td>\n",
       "      <td>1975.95</td>\n",
       "      <td>2000.0</td>\n",
       "      <td>2000.00</td>\n",
       "      <td>1806.71</td>\n",
       "      <td>9.7</td>\n",
       "    </tr>\n",
       "    <tr>\n",
       "      <th>12</th>\n",
       "      <td>8.0</td>\n",
       "      <td>1735.000000</td>\n",
       "      <td>1874.4800</td>\n",
       "      <td>1975.95</td>\n",
       "      <td>2000.0</td>\n",
       "      <td>2000.00</td>\n",
       "      <td>1943.20</td>\n",
       "      <td>2.8</td>\n",
       "    </tr>\n",
       "    <tr>\n",
       "      <th>13</th>\n",
       "      <td>8.0</td>\n",
       "      <td>1869.670000</td>\n",
       "      <td>1874.4800</td>\n",
       "      <td>1975.95</td>\n",
       "      <td>2000.0</td>\n",
       "      <td>2000.00</td>\n",
       "      <td>2000.00</td>\n",
       "      <td>0.0</td>\n",
       "    </tr>\n",
       "    <tr>\n",
       "      <th>14</th>\n",
       "      <td>8.0</td>\n",
       "      <td>1568.160000</td>\n",
       "      <td>1874.4800</td>\n",
       "      <td>1975.95</td>\n",
       "      <td>2000.0</td>\n",
       "      <td>2000.00</td>\n",
       "      <td>1756.34</td>\n",
       "      <td>12.2</td>\n",
       "    </tr>\n",
       "    <tr>\n",
       "      <th>15</th>\n",
       "      <td>9.0</td>\n",
       "      <td>1734.300000</td>\n",
       "      <td>2094.4750</td>\n",
       "      <td>2142.87</td>\n",
       "      <td>2250.0</td>\n",
       "      <td>2137.50</td>\n",
       "      <td>1942.42</td>\n",
       "      <td>9.1</td>\n",
       "    </tr>\n",
       "    <tr>\n",
       "      <th>16</th>\n",
       "      <td>8.0</td>\n",
       "      <td>1727.510000</td>\n",
       "      <td>1874.4800</td>\n",
       "      <td>1975.95</td>\n",
       "      <td>2000.0</td>\n",
       "      <td>2000.00</td>\n",
       "      <td>1934.81</td>\n",
       "      <td>3.3</td>\n",
       "    </tr>\n",
       "    <tr>\n",
       "      <th>17</th>\n",
       "      <td>10.0</td>\n",
       "      <td>1510.150000</td>\n",
       "      <td>2314.4700</td>\n",
       "      <td>2309.80</td>\n",
       "      <td>2500.0</td>\n",
       "      <td>2250.00</td>\n",
       "      <td>1691.37</td>\n",
       "      <td>24.8</td>\n",
       "    </tr>\n",
       "    <tr>\n",
       "      <th>18</th>\n",
       "      <td>10.0</td>\n",
       "      <td>1842.940000</td>\n",
       "      <td>2314.4700</td>\n",
       "      <td>2309.80</td>\n",
       "      <td>2500.0</td>\n",
       "      <td>2250.00</td>\n",
       "      <td>2064.09</td>\n",
       "      <td>8.3</td>\n",
       "    </tr>\n",
       "    <tr>\n",
       "      <th>19</th>\n",
       "      <td>10.0</td>\n",
       "      <td>1732.010000</td>\n",
       "      <td>2314.4700</td>\n",
       "      <td>2309.80</td>\n",
       "      <td>2500.0</td>\n",
       "      <td>2250.00</td>\n",
       "      <td>1939.85</td>\n",
       "      <td>13.8</td>\n",
       "    </tr>\n",
       "    <tr>\n",
       "      <th>20</th>\n",
       "      <td>10.0</td>\n",
       "      <td>1557.850000</td>\n",
       "      <td>2314.4700</td>\n",
       "      <td>2309.80</td>\n",
       "      <td>2500.0</td>\n",
       "      <td>2250.00</td>\n",
       "      <td>1744.79</td>\n",
       "      <td>22.5</td>\n",
       "    </tr>\n",
       "    <tr>\n",
       "      <th>21</th>\n",
       "      <td>10.0</td>\n",
       "      <td>2163.410000</td>\n",
       "      <td>2314.4700</td>\n",
       "      <td>2309.80</td>\n",
       "      <td>2500.0</td>\n",
       "      <td>2250.00</td>\n",
       "      <td>2250.00</td>\n",
       "      <td>0.0</td>\n",
       "    </tr>\n",
       "    <tr>\n",
       "      <th>22</th>\n",
       "      <td>10.0</td>\n",
       "      <td>1782.430000</td>\n",
       "      <td>2314.4700</td>\n",
       "      <td>2309.80</td>\n",
       "      <td>2500.0</td>\n",
       "      <td>2250.00</td>\n",
       "      <td>1996.32</td>\n",
       "      <td>11.3</td>\n",
       "    </tr>\n",
       "    <tr>\n",
       "      <th>23</th>\n",
       "      <td>10.0</td>\n",
       "      <td>1712.260000</td>\n",
       "      <td>2314.4700</td>\n",
       "      <td>2309.80</td>\n",
       "      <td>2500.0</td>\n",
       "      <td>2250.00</td>\n",
       "      <td>1917.73</td>\n",
       "      <td>14.8</td>\n",
       "    </tr>\n",
       "    <tr>\n",
       "      <th>24</th>\n",
       "      <td>10.0</td>\n",
       "      <td>1828.160000</td>\n",
       "      <td>2314.4700</td>\n",
       "      <td>2309.80</td>\n",
       "      <td>2500.0</td>\n",
       "      <td>2250.00</td>\n",
       "      <td>2047.54</td>\n",
       "      <td>9.0</td>\n",
       "    </tr>\n",
       "    <tr>\n",
       "      <th>25</th>\n",
       "      <td>10.0</td>\n",
       "      <td>2163.410000</td>\n",
       "      <td>2314.4700</td>\n",
       "      <td>2309.80</td>\n",
       "      <td>2500.0</td>\n",
       "      <td>2250.00</td>\n",
       "      <td>2250.00</td>\n",
       "      <td>0.0</td>\n",
       "    </tr>\n",
       "    <tr>\n",
       "      <th>26</th>\n",
       "      <td>10.0</td>\n",
       "      <td>1732.010000</td>\n",
       "      <td>2314.4700</td>\n",
       "      <td>2309.80</td>\n",
       "      <td>2500.0</td>\n",
       "      <td>2250.00</td>\n",
       "      <td>1939.85</td>\n",
       "      <td>13.8</td>\n",
       "    </tr>\n",
       "    <tr>\n",
       "      <th>27</th>\n",
       "      <td>10.0</td>\n",
       "      <td>1741.120000</td>\n",
       "      <td>2314.4700</td>\n",
       "      <td>2309.80</td>\n",
       "      <td>2500.0</td>\n",
       "      <td>2250.00</td>\n",
       "      <td>1950.05</td>\n",
       "      <td>13.3</td>\n",
       "    </tr>\n",
       "    <tr>\n",
       "      <th>28</th>\n",
       "      <td>10.0</td>\n",
       "      <td>1732.010000</td>\n",
       "      <td>2314.4700</td>\n",
       "      <td>2309.80</td>\n",
       "      <td>2500.0</td>\n",
       "      <td>2250.00</td>\n",
       "      <td>1939.85</td>\n",
       "      <td>13.8</td>\n",
       "    </tr>\n",
       "    <tr>\n",
       "      <th>29</th>\n",
       "      <td>10.0</td>\n",
       "      <td>1925.430000</td>\n",
       "      <td>2314.4700</td>\n",
       "      <td>2309.80</td>\n",
       "      <td>2500.0</td>\n",
       "      <td>2250.00</td>\n",
       "      <td>2156.48</td>\n",
       "      <td>4.2</td>\n",
       "    </tr>\n",
       "    <tr>\n",
       "      <th>30</th>\n",
       "      <td>10.5</td>\n",
       "      <td>1624.490000</td>\n",
       "      <td>2407.0500</td>\n",
       "      <td>2393.26</td>\n",
       "      <td>2625.0</td>\n",
       "      <td>2231.25</td>\n",
       "      <td>1819.43</td>\n",
       "      <td>18.5</td>\n",
       "    </tr>\n",
       "    <tr>\n",
       "      <th>31</th>\n",
       "      <td>10.5</td>\n",
       "      <td>1624.490000</td>\n",
       "      <td>2407.0500</td>\n",
       "      <td>2393.26</td>\n",
       "      <td>2625.0</td>\n",
       "      <td>2231.25</td>\n",
       "      <td>1819.43</td>\n",
       "      <td>18.5</td>\n",
       "    </tr>\n",
       "    <tr>\n",
       "      <th>32</th>\n",
       "      <td>11.0</td>\n",
       "      <td>1834.960000</td>\n",
       "      <td>2499.6300</td>\n",
       "      <td>2476.72</td>\n",
       "      <td>2750.0</td>\n",
       "      <td>2337.50</td>\n",
       "      <td>2055.16</td>\n",
       "      <td>12.1</td>\n",
       "    </tr>\n",
       "    <tr>\n",
       "      <th>33</th>\n",
       "      <td>11.0</td>\n",
       "      <td>1700.000000</td>\n",
       "      <td>2499.6300</td>\n",
       "      <td>2476.72</td>\n",
       "      <td>2750.0</td>\n",
       "      <td>2337.50</td>\n",
       "      <td>1904.00</td>\n",
       "      <td>18.5</td>\n",
       "    </tr>\n",
       "    <tr>\n",
       "      <th>34</th>\n",
       "      <td>11.5</td>\n",
       "      <td>1803.850000</td>\n",
       "      <td>2592.2100</td>\n",
       "      <td>2560.18</td>\n",
       "      <td>2875.0</td>\n",
       "      <td>2300.00</td>\n",
       "      <td>2020.31</td>\n",
       "      <td>12.2</td>\n",
       "    </tr>\n",
       "    <tr>\n",
       "      <th>35</th>\n",
       "      <td>12.0</td>\n",
       "      <td>1634.700000</td>\n",
       "      <td>2684.7900</td>\n",
       "      <td>2643.64</td>\n",
       "      <td>3000.0</td>\n",
       "      <td>2400.00</td>\n",
       "      <td>1830.86</td>\n",
       "      <td>23.7</td>\n",
       "    </tr>\n",
       "    <tr>\n",
       "      <th>36</th>\n",
       "      <td>12.5</td>\n",
       "      <td>1373.660000</td>\n",
       "      <td>2684.7900</td>\n",
       "      <td>2727.10</td>\n",
       "      <td>3125.0</td>\n",
       "      <td>2500.00</td>\n",
       "      <td>1538.50</td>\n",
       "      <td>38.5</td>\n",
       "    </tr>\n",
       "  </tbody>\n",
       "</table>\n",
       "</div>"
      ],
      "text/plain": [
       "    horas         pago   tabelado  modelo 1  modelo 2  modelo 3  reajustado  \\\n",
       "0     4.0  1130.370000  1339.5800   1308.26    1000.0   1000.00     1000.00   \n",
       "1     4.0   964.324850  1339.5800   1308.26    1000.0   1000.00     1000.00   \n",
       "2     4.0   964.885101  1339.5800   1308.26    1000.0   1000.00     1000.00   \n",
       "3     4.0   992.371000  1339.5800   1308.26    1000.0   1000.00     1000.00   \n",
       "4     4.0  1173.910000  1339.5800   1308.26    1000.0   1000.00     1000.00   \n",
       "5     4.0  1023.957934  1339.5800   1308.26    1000.0   1000.00     1000.00   \n",
       "6     5.0  1137.170000  1503.0050   1475.18    1250.0   1250.00     1250.00   \n",
       "7     6.0  1144.530000  1666.4300   1642.10    1500.0   1500.00     1281.87   \n",
       "8     6.0  1115.850000  1666.4300   1642.10    1500.0   1500.00     1249.75   \n",
       "9     6.0  1530.630000  1666.4300   1642.10    1500.0   1500.00     1500.00   \n",
       "10    7.5  1283.600000  1822.4675   1892.49    1875.0   1875.00     1437.63   \n",
       "11    8.0  1613.130000  1874.4800   1975.95    2000.0   2000.00     1806.71   \n",
       "12    8.0  1735.000000  1874.4800   1975.95    2000.0   2000.00     1943.20   \n",
       "13    8.0  1869.670000  1874.4800   1975.95    2000.0   2000.00     2000.00   \n",
       "14    8.0  1568.160000  1874.4800   1975.95    2000.0   2000.00     1756.34   \n",
       "15    9.0  1734.300000  2094.4750   2142.87    2250.0   2137.50     1942.42   \n",
       "16    8.0  1727.510000  1874.4800   1975.95    2000.0   2000.00     1934.81   \n",
       "17   10.0  1510.150000  2314.4700   2309.80    2500.0   2250.00     1691.37   \n",
       "18   10.0  1842.940000  2314.4700   2309.80    2500.0   2250.00     2064.09   \n",
       "19   10.0  1732.010000  2314.4700   2309.80    2500.0   2250.00     1939.85   \n",
       "20   10.0  1557.850000  2314.4700   2309.80    2500.0   2250.00     1744.79   \n",
       "21   10.0  2163.410000  2314.4700   2309.80    2500.0   2250.00     2250.00   \n",
       "22   10.0  1782.430000  2314.4700   2309.80    2500.0   2250.00     1996.32   \n",
       "23   10.0  1712.260000  2314.4700   2309.80    2500.0   2250.00     1917.73   \n",
       "24   10.0  1828.160000  2314.4700   2309.80    2500.0   2250.00     2047.54   \n",
       "25   10.0  2163.410000  2314.4700   2309.80    2500.0   2250.00     2250.00   \n",
       "26   10.0  1732.010000  2314.4700   2309.80    2500.0   2250.00     1939.85   \n",
       "27   10.0  1741.120000  2314.4700   2309.80    2500.0   2250.00     1950.05   \n",
       "28   10.0  1732.010000  2314.4700   2309.80    2500.0   2250.00     1939.85   \n",
       "29   10.0  1925.430000  2314.4700   2309.80    2500.0   2250.00     2156.48   \n",
       "30   10.5  1624.490000  2407.0500   2393.26    2625.0   2231.25     1819.43   \n",
       "31   10.5  1624.490000  2407.0500   2393.26    2625.0   2231.25     1819.43   \n",
       "32   11.0  1834.960000  2499.6300   2476.72    2750.0   2337.50     2055.16   \n",
       "33   11.0  1700.000000  2499.6300   2476.72    2750.0   2337.50     1904.00   \n",
       "34   11.5  1803.850000  2592.2100   2560.18    2875.0   2300.00     2020.31   \n",
       "35   12.0  1634.700000  2684.7900   2643.64    3000.0   2400.00     1830.86   \n",
       "36   12.5  1373.660000  2684.7900   2727.10    3125.0   2500.00     1538.50   \n",
       "\n",
       "    bolsa%  \n",
       "0      0.0  \n",
       "1      0.0  \n",
       "2      0.0  \n",
       "3      0.0  \n",
       "4      0.0  \n",
       "5      0.0  \n",
       "6      0.0  \n",
       "7     14.5  \n",
       "8     16.7  \n",
       "9      0.0  \n",
       "10    23.3  \n",
       "11     9.7  \n",
       "12     2.8  \n",
       "13     0.0  \n",
       "14    12.2  \n",
       "15     9.1  \n",
       "16     3.3  \n",
       "17    24.8  \n",
       "18     8.3  \n",
       "19    13.8  \n",
       "20    22.5  \n",
       "21     0.0  \n",
       "22    11.3  \n",
       "23    14.8  \n",
       "24     9.0  \n",
       "25     0.0  \n",
       "26    13.8  \n",
       "27    13.3  \n",
       "28    13.8  \n",
       "29     4.2  \n",
       "30    18.5  \n",
       "31    18.5  \n",
       "32    12.1  \n",
       "33    18.5  \n",
       "34    12.2  \n",
       "35    23.7  \n",
       "36    38.5  "
      ]
     },
     "execution_count": 47,
     "metadata": {},
     "output_type": "execute_result"
    }
   ],
   "source": [
    "mens_ago['bolsa%'] = [\n",
    "                      np.round(max(0,100*(mens_ago['modelo 3'][i]-mens_ago['reajustado'][i])/mens_ago['modelo 3'][i]),1)\n",
    "                      for i in range(len(mens_ago))\n",
    "                    ]\n",
    "mens_ago"
   ]
  },
  {
   "cell_type": "code",
   "execution_count": 48,
   "id": "cc33db7b-7c86-4061-bf4e-9d60a4f7dcfc",
   "metadata": {
    "tags": []
   },
   "outputs": [
    {
     "data": {
      "text/plain": [
       "-2297.046000000002"
      ]
     },
     "execution_count": 48,
     "metadata": {},
     "output_type": "execute_result"
    }
   ],
   "source": [
    "# reajuste é insuficiente \n",
    "\n",
    "mens_ago['reajustado'].sum()-despesas['valores'].mean()"
   ]
  },
  {
   "cell_type": "code",
   "execution_count": 49,
   "id": "94759447-adfa-4afe-90b2-72556442d39c",
   "metadata": {
    "tags": []
   },
   "outputs": [
    {
     "data": {
      "text/plain": [
       "26"
      ]
     },
     "execution_count": 49,
     "metadata": {},
     "output_type": "execute_result"
    }
   ],
   "source": [
    "# número de bolsistas\n",
    "sum(mens_ago['bolsa%']!=0)"
   ]
  },
  {
   "cell_type": "markdown",
   "id": "93a3eea6-8885-4dc7-958f-a4a1d25162ac",
   "metadata": {},
   "source": [
    "Distribuição das bolsas em função do percentual de desconto"
   ]
  },
  {
   "cell_type": "code",
   "execution_count": 50,
   "id": "cee12fb1-1ec4-4a97-b972-cd0c5443f3a3",
   "metadata": {
    "tags": []
   },
   "outputs": [
    {
     "data": {
      "text/plain": [
       "<Axes: >"
      ]
     },
     "execution_count": 50,
     "metadata": {},
     "output_type": "execute_result"
    },
    {
     "data": {
      "image/png": "[encoded data removed]",
      "text/plain": [
       "<Figure size 640x480 with 1 Axes>"
      ]
     },
     "metadata": {},
     "output_type": "display_data"
    }
   ],
   "source": [
    "mens_ago['bolsa%'].hist()"
   ]
  },
  {
   "cell_type": "code",
   "execution_count": 51,
   "id": "b763603b-8139-4a26-b28b-5c90973b5313",
   "metadata": {
    "tags": []
   },
   "outputs": [
    {
     "data": {
      "image/png": "[encoded data removed]",
      "text/plain": [
       "<Figure size 640x480 with 1 Axes>"
      ]
     },
     "metadata": {},
     "output_type": "display_data"
    }
   ],
   "source": [
    "fig, ax = plt.subplots()\n",
    "\n",
    "ax.plot(\n",
    "    mens_ago['horas'],\n",
    "    mens_ago['reajustado'],\n",
    "    marker='o',\n",
    "    color='blue',\n",
    "    lw=0,\n",
    "    label='mensalidade reajustada',\n",
    ")\n",
    "\n",
    "ax.plot(\n",
    "    h,\n",
    "    v_modelo3(h),\n",
    "    marker='.',\n",
    "    color='red',\n",
    "    linestyle='-',\n",
    "    label='mensalidade alunos novos',\n",
    ")\n",
    "\n",
    "ax.plot(\n",
    "    concorrencia['horas'],\n",
    "    concorrencia['A'],\n",
    "    marker='.',\n",
    "    color='orange',\n",
    "    linestyle='-',\n",
    "    label='escola A - 2023',\n",
    ")\n",
    "\n",
    "ax.plot(\n",
    "    concorrencia['horas'],\n",
    "    concorrencia['B'],\n",
    "    marker='.',\n",
    "    color='violet',\n",
    "    linestyle='-',\n",
    "    label='escola B - 2023',\n",
    ")\n",
    "\n",
    "ax.set_title('Valores para 2024')\n",
    "ax.set_xlabel('horas na escola')\n",
    "ax.set_ylabel('valores em reais')\n",
    "ax.legend(loc='upper left', ncols=1)\n",
    "\n",
    "fig.savefig('../imagens/mensalidades_2024.png')"
   ]
  },
  {
   "cell_type": "code",
   "execution_count": null,
   "id": "c4c88dfb-9692-4fa0-ae72-e7277e50ad3e",
   "metadata": {},
   "outputs": [],
   "source": []
  }
 ],
 "metadata": {
  "kernelspec": {
   "display_name": "Python 3 (ipykernel)",
   "language": "python",
   "name": "python3"
  },
  "language_info": {
   "codemirror_mode": {
    "name": "ipython",
    "version": 3
   },
   "file_extension": ".py",
   "mimetype": "text/x-python",
   "name": "python",
   "nbconvert_exporter": "python",
   "pygments_lexer": "ipython3",
   "version": "3.11.5"
  }
 },
 "nbformat": 4,
 "nbformat_minor": 5
}
